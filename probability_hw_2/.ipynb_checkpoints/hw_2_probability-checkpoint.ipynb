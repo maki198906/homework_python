{
 "cells": [
  {
   "cell_type": "markdown",
   "metadata": {},
   "source": [
    "# Домашняя работа №2"
   ]
  },
  {
   "cell_type": "code",
   "execution_count": 83,
   "metadata": {},
   "outputs": [],
   "source": [
    "import pandas as pd\n",
    "from scipy import stats\n",
    "import numpy as np\n",
    "import math\n",
    "\n",
    "import seaborn as sns\n",
    "from sklearn import datasets\n",
    "from matplotlib import pyplot as plt\n",
    "from statsmodels.distributions.empirical_distribution import ECDF\n",
    "import scipy.stats as sts\n",
    "%matplotlib inline"
   ]
  },
  {
   "cell_type": "markdown",
   "metadata": {},
   "source": [
    "## Генеральная совокупность и выборка"
   ]
  },
  {
   "cell_type": "markdown",
   "metadata": {},
   "source": [
    "- Чем отличается генеральная совокупность от выборки?"
   ]
  },
  {
   "cell_type": "markdown",
   "metadata": {},
   "source": [
    "<span style=\"color:blue\">*Генеральная совокупность - это совокупность всех объектов, относительно которых мы будем делать выводы, а выборка -  это случайно выбранные объекты из генеральной совокупности для анализа.*</span>\n"
   ]
  },
  {
   "cell_type": "markdown",
   "metadata": {},
   "source": [
    "- Если размер выборки больше 200, то такая выборка является репрезентативной?"
   ]
  },
  {
   "cell_type": "markdown",
   "metadata": {},
   "source": [
    "<span style=\"color:blue\">*Для локальных исследований скорее всего будет считаться, а если анализируем что-то глобальное, то скорее всего нет*</span>"
   ]
  },
  {
   "cell_type": "markdown",
   "metadata": {},
   "source": [
    "- Измерили длину волос футболистов сборной Франции на ЧМ-2018. Что могло являться генеральной совокупностью? Приведите 3 примера."
   ]
  },
  {
   "cell_type": "markdown",
   "metadata": {},
   "source": [
    "<span style=\"color:blue\">1) *Все игроки сборных, участвующих в турнире ЧМ-2018*  \n",
    "2) *Все игроки сборной Франции, когда-либо принимавшие участие в чемпионатах мира*  \n",
    "3) *Игроки старше 30 лет, когда-либо принимавшие участие в чемпионатах мира*</span>"
   ]
  },
  {
   "cell_type": "markdown",
   "metadata": {},
   "source": [
    "- Пусть генеральная совокупность --- вес детей, родившихся в Волгограде за последние 10 лет. Предложите 2 стратегии, как сгенерировать выборку."
   ]
  },
  {
   "cell_type": "markdown",
   "metadata": {},
   "source": [
    "<span style=\"color:blue\">1) *Выборка веса детей, родившихся в определенном микрорайоне Волгограда  \n",
    "2) Выборка веса детей в зависимости от роддома с определенным интервалом значений веса*</span>  \n",
    "<span style=\"color:orange\">3) *Выбрать по n-родившихся детей с n-количества роддомов*</span>"
   ]
  },
  {
   "cell_type": "markdown",
   "metadata": {},
   "source": [
    "## Параметры центра и разброса"
   ]
  },
  {
   "cell_type": "markdown",
   "metadata": {},
   "source": [
    "- Постройте распределение, у которого отсутствует мода.\n"
   ]
  },
  {
   "cell_type": "code",
   "execution_count": 2,
   "metadata": {},
   "outputs": [
    {
     "data": {
      "text/plain": [
       "[<matplotlib.lines.Line2D at 0x1a1fa92b38>]"
      ]
     },
     "execution_count": 2,
     "metadata": {},
     "output_type": "execute_result"
    },
    {
     "data": {
      "image/png": "[encoded data removed]",
      "text/plain": [
       "<Figure size 432x288 with 1 Axes>"
      ]
     },
     "metadata": {
      "needs_background": "light"
     },
     "output_type": "display_data"
    }
   ],
   "source": [
    "# по определению: Мо́да — значение во множестве наблюдений, которое встречается наиболее часто. На графике ниже мы\n",
    "# видим, что таких значений нет.\n",
    "uniform_rv = sts.uniform()\n",
    "uniform_rv.rvs(10)\n",
    "\n",
    "x = np.linspace(0, 1, 100)\n",
    "pdf = uniform_rv.pdf(x)\n",
    "plt.plot(x, pdf)"
   ]
  },
  {
   "cell_type": "markdown",
   "metadata": {},
   "source": [
    "- Какая из статистик (медиана, матожидание) будет наиболее неустойчивой при выбросах? Проверить на выборке из Гамма-распределения. "
   ]
  },
  {
   "cell_type": "code",
   "execution_count": 3,
   "metadata": {},
   "outputs": [
    {
     "name": "stdout",
     "output_type": "stream",
     "text": [
      "Median = 3.9139276629026103\n",
      "MathExpectation = 4.176145685402571\n",
      "NewMedian = 4.379515556150568\n",
      "NewMathExpectation = 5.277470925102428\n",
      "Как мы видим из результатов более неустойчивой статистикой является матожидание \n"
     ]
    }
   ],
   "source": [
    "gamma_rv = stats.gamma(3, 1)\n",
    "sample = gamma_rv.rvs(51)\n",
    "med = sorted(sample)[24]\n",
    "mean = sample.mean()\n",
    "\n",
    "\n",
    "#your code here\n",
    "overshoot = np.array([10,7,55])\n",
    "sample_with_overshoot = list(overshoot)+ list(sample)\n",
    "new_med =np.array(sorted(sample_with_overshoot)[len(sample_with_overshoot)//2])\n",
    "new_mean =np.array(sample_with_overshoot).mean()\n",
    "print('Median = {}'.format(med))\n",
    "print('MathExpectation = {}'.format(mean))\n",
    "print('NewMedian = {}'.format(new_med))\n",
    "print('NewMathExpectation = {}'.format(new_mean))\n",
    "print('Как мы видим из результатов более неустойчивой статистикой является матожидание ')"
   ]
  },
  {
   "cell_type": "markdown",
   "metadata": {},
   "source": [
    "- Как изменится матожидание, если к выборке добавить константу $C$? Умножить на $C$. \n",
    "\n",
    "Проверите на выборке из распределения Пуассона"
   ]
  },
  {
   "cell_type": "markdown",
   "metadata": {},
   "source": [
    "<span style=\"color:blue\">1) *Изменится на +$C$ и х$C$* </span>"
   ]
  },
  {
   "cell_type": "code",
   "execution_count": 4,
   "metadata": {},
   "outputs": [
    {
     "name": "stdout",
     "output_type": "stream",
     "text": [
      "матожидание = 2\n",
      "матожидание + C = 2.5\n",
      "матожидание x C = 1.0\n"
     ]
    }
   ],
   "source": [
    "#mu = 2\n",
    "pois_rv = stats.poisson(2)\n",
    "sample = pois_rv.rvs(100)\n",
    "C = 0.5\n",
    "#your code here\n",
    "mean = np.array(sorted(sample)[len(sample)//2])\n",
    "sum_p = sample + C\n",
    "mean_with_c = np.array(sorted(sum_p)[len(sample)//2])\n",
    "mult_p = sample * C\n",
    "mean_mult_c = np.array(sorted(mult_p)[len(sample)//2])\n",
    "print('матожидание = {}'.format(mean))\n",
    "print('матожидание + C = {}'.format(mean_with_c))\n",
    "print('матожидание x C = {}'.format(mean_mult_c))\n"
   ]
  },
  {
   "cell_type": "markdown",
   "metadata": {},
   "source": [
    "- Как изменится дисперсия при добавлении выбросов? Проверьте для распределения экспоненциального распределения"
   ]
  },
  {
   "cell_type": "markdown",
   "metadata": {},
   "source": [
    "<span style=\"color:blue\"> *Увеличится. Шапка станет шире* </span>"
   ]
  },
  {
   "cell_type": "code",
   "execution_count": 5,
   "metadata": {},
   "outputs": [
    {
     "name": "stdout",
     "output_type": "stream",
     "text": [
      "дисперсия без выбросов 0.8610906362936087\n",
      "дисперсия c выбросом 1.0803685418646347\n"
     ]
    }
   ],
   "source": [
    "exp_rv = stats.expon(4)\n",
    "sample = exp_rv.rvs(50)\n",
    "var = sample.var()\n",
    "print('дисперсия без выбросов {}'.format(var))\n",
    "\n",
    "#your code here\n",
    "overshoot = np.array([2,6,3,6])\n",
    "sample_with_overshoot = np.array(list(overshoot) + list(sample))\n",
    "new_var = sample_with_overshoot.var()\n",
    "print('дисперсия c выбросом {}'.format(new_var))"
   ]
  },
  {
   "cell_type": "markdown",
   "metadata": {},
   "source": [
    "- Что шире: интерквантильный размах ($X_{0.75} - X_{0.25}$) или $(\\bar{X}-s, \\bar{X}+s)$ для $\\mathcal{N}(a, \\sigma^2)$. Посчитайте и сравните эти интервалы для распредения $\\mathcal{N}(3,1)$"
   ]
  },
  {
   "cell_type": "code",
   "execution_count": 6,
   "metadata": {},
   "outputs": [
    {
     "name": "stdout",
     "output_type": "stream",
     "text": [
      "(X - s,X + s) = 2.029718369807358, 3.947204553738377\n",
      "Интерквантильный размах = 3.6900021337303883 - 2.2910608401944774 = 1.398941293535911\n"
     ]
    }
   ],
   "source": [
    "norm_rv = stats.norm(3,1)\n",
    "sample = norm_rv.rvs(1000)\n",
    "\n",
    "s = sample.var()\n",
    "mean = sample.mean()\n",
    "\n",
    "x_left = mean - s\n",
    "x_right = mean + s\n",
    "\n",
    "print('(X - s,X + s) = {0}, {1}'.format(x_left,x_right))\n",
    "p_75 = np.percentile(sample, 75)\n",
    "p_25 = np.percentile(sample, 25)\n",
    "iqr = p_75 - p_25\n",
    "print ('Интерквантильный размах = {0} - {1} = {2}'.format(p_75,p_25,iqr))\n",
    "\n",
    "#Шире (X - s,X + s)"
   ]
  },
  {
   "cell_type": "markdown",
   "metadata": {},
   "source": [
    "## Основные статистики и ЦПТ"
   ]
  },
  {
   "cell_type": "markdown",
   "metadata": {},
   "source": [
    "- Что такое статистика? Посчитайте любую для бета-распределения (1,3)"
   ]
  },
  {
   "cell_type": "markdown",
   "metadata": {},
   "source": [
    "<span style=\"color:blue\">*Статистика - набор данных, позволяющих нам понять какая будет модель. Статистика - любая функция от тех данных, которые у нас есть* </span>  \n",
    "<span style=\"color:orange\"> *Сам сейчас читаю и правда мутно как-то написано. Попробую еще раз изъясниться -   \n",
    "    это когда у нас есть какие-либо данные и мы пытаемся что -то узнать о них, т.е. сможем узнать распределение этих данных и дальше работать с ними*  </span>"
   ]
  },
  {
   "cell_type": "code",
   "execution_count": 2,
   "metadata": {},
   "outputs": [
    {
     "name": "stdout",
     "output_type": "stream",
     "text": [
      "Дисперсия = 0.0375\n"
     ]
    }
   ],
   "source": [
    "beta_rv = stats.beta(1,3)\n",
    "#your code here    \n",
    "a = 1\n",
    "b = 3\n",
    "var = (a * b)/((a+b)**2*(a+b+1))\n",
    "print('Дисперсия = {}'.format(var))"
   ]
  },
  {
   "cell_type": "code",
   "execution_count": 9,
   "metadata": {},
   "outputs": [
    {
     "data": {
      "text/plain": [
       "0.038038020419531755"
      ]
     },
     "execution_count": 9,
     "metadata": {},
     "output_type": "execute_result"
    }
   ],
   "source": [
    "# мат.стат (понял, надо было по выброке из распределения считать)\n",
    "beta_rv = stats.beta(1,3)\n",
    "sample = beta_rv.rvs(100)\n",
    "# Дисперсия\n",
    "sample.var()"
   ]
  },
  {
   "cell_type": "markdown",
   "metadata": {},
   "source": [
    "- Какие статистики являются оценками матожидания, медианы и дисперсии? Посчитайте их для гамма-распределения с параметрами (2, 2)"
   ]
  },
  {
   "cell_type": "markdown",
   "metadata": {},
   "source": [
    "<span style=\"color:blue\">*Выборки случайных величин (их значения)* </span>  \n",
    "<span style=\"color:orange\"> *хм, ну как я понимаю, что мы оцениваем матожидание, медиану, дисперсию по случайной выборке независимых случайных величин из распределения, в нашем случае из гамма-распределения  \n",
    "    ну а с теоретическими параметрами я, конечно, погорячился :)*  </span>"
   ]
  },
  {
   "cell_type": "code",
   "execution_count": 10,
   "metadata": {},
   "outputs": [
    {
     "name": "stdout",
     "output_type": "stream",
     "text": [
      "Матожидание = 4\n",
      "Дисперсия = 8\n",
      "Медина = 3.9516165833171226\n"
     ]
    }
   ],
   "source": [
    "gamma_rv = stats.gamma(2,2)\n",
    "#your code here\n",
    "k = 2\n",
    "theta = 2\n",
    "mean = k * theta\n",
    "var = k*theta**2\n",
    "gamma_rvs = gamma_rv.rvs(100)\n",
    "med = np.array(sorted(gamma_rvs)[len(gamma_rvs)//2])\n",
    "print ('Матожидание = {}'.format(mean))\n",
    "print ('Дисперсия = {}'.format(var))\n",
    "print ('Медина = {}'.format(med))"
   ]
  },
  {
   "cell_type": "markdown",
   "metadata": {},
   "source": [
    "#### Выборочная дисперсия\n",
    "\n",
    "$$s^2 = \\frac{1}{n-1} \\sum_i (X_i - \\bar{X})^2 $$\n"
   ]
  },
  {
   "cell_type": "code",
   "execution_count": 52,
   "metadata": {},
   "outputs": [
    {
     "name": "stdout",
     "output_type": "stream",
     "text": [
      "3.9563604291484036\n",
      "3.7030770628753693\n"
     ]
    },
    {
     "data": {
      "text/plain": [
       "1.6285088761200097"
      ]
     },
     "execution_count": 52,
     "metadata": {},
     "output_type": "execute_result"
    }
   ],
   "source": [
    "gamma_rv = stats.gamma(2,2)\n",
    "gamma_rvs = gamma_rv.rvs(100)\n",
    "#матожидание - статистикой будет сгенирированный набор значений (их сумма) для распределения \n",
    "mean = sum(gamma_rvs)/100\n",
    "print(mean)\n",
    "#медиана -статистикой будет сгенирированный набор значений (100) для распределения \n",
    "med = np.array(sorted(gamma_rvs)[len(gamma_rvs)//2])\n",
    "print(med)\n",
    "# дисперсия \n",
    "gamma_rvs.var()"
   ]
  },
  {
   "cell_type": "markdown",
   "metadata": {},
   "source": [
    "- Какое распределение имеет $\\bar{X}$ по ЦПТ? Если исходное распределение $\\mathcal{N}(5, 2)$. Сгенерировать выборки размером 50 из этого распределения и проверить. (построить распределение средних)"
   ]
  },
  {
   "cell_type": "markdown",
   "metadata": {},
   "source": [
    "<span style=\"color:blue\">*Нормальное* </span> <span style=\"color:orange\">*C параметрами N(mu(матожидание),sigma**2(дисперсия))* </span>   \n",
    "<span style=\"color:blue\">*ЦПТ примет вид:* </span>\n",
    "$$\\bar{X_n} \\rightarrow^d \\mathcal{N}(M,SE^2)$$"
   ]
  },
  {
   "cell_type": "code",
   "execution_count": 130,
   "metadata": {},
   "outputs": [
    {
     "name": "stdout",
     "output_type": "stream",
     "text": [
      "4.988395389781064\n",
      "1.7331332878945032\n",
      "\n",
      "5.001313622048222\n",
      "0.24510206011406802\n"
     ]
    },
    {
     "data": {
      "image/png": "[encoded data removed]",
      "text/plain": [
       "<Figure size 432x288 with 1 Axes>"
      ]
     },
     "metadata": {
      "needs_background": "light"
     },
     "output_type": "display_data"
    }
   ],
   "source": [
    "#your code here\n",
    "results = []\n",
    "norm_rv = stats.norm(5,2)\n",
    "n = 50\n",
    "for i in range(10000):\n",
    "    sample = norm_rv.rvs(n)\n",
    "    #your code here\n",
    "    results.append(sample.mean())\n",
    "rv = stats.norm(mean_cpt,se)    \n",
    "x = np.linspace(4,6,100)    \n",
    "plt.hist(results, density=True)\n",
    "plt.plot(x, rv.pdf(x))\n",
    "plt.ylabel('fraction of samples')\n",
    "plt.xlabel('$x$')\n",
    "# статистики исходного распределения\n",
    "print(sample.mean()) # матожидание\n",
    "print(sample.var()**.5) #дисперсия\n",
    "print ( )\n",
    "# ЦПТ\n",
    "mean_cpt = np.array(results).mean()\n",
    "print(mean_cpt)\n",
    "se = (sample.var()**.5)/(n**.5)\n",
    "print(se) \n",
    "\n",
    "#  с уловием , что выборочное среднее стремится к матожиданию исходной выборки(5) с ее дисперсией(2), \n",
    "# деленной на n**.5"
   ]
  },
  {
   "cell_type": "code",
   "execution_count": null,
   "metadata": {},
   "outputs": [],
   "source": []
  },
  {
   "cell_type": "markdown",
   "metadata": {},
   "source": [
    "- Сгенерируйте выборки так, чтобы ЦПТ не выполнялось (распределение средних не было похоже нормальное)"
   ]
  },
  {
   "cell_type": "code",
   "execution_count": 136,
   "metadata": {},
   "outputs": [
    {
     "name": "stdout",
     "output_type": "stream",
     "text": [
      "3.4170858054147626\n",
      "\n",
      "5.001313622048222\n"
     ]
    },
    {
     "data": {
      "image/png": "[encoded data removed]",
      "text/plain": [
       "<Figure size 432x288 with 1 Axes>"
      ]
     },
     "metadata": {
      "needs_background": "light"
     },
     "output_type": "display_data"
    }
   ],
   "source": [
    "#your code here\n",
    "results = []\n",
    "n = 4\n",
    "exp_rv = sts.expon(3)\n",
    "for i in range(10000):\n",
    "    x = exp_rv.rvs(n)\n",
    "    results.append(x.mean())\n",
    "\n",
    "plt.hist(results, density=True)\n",
    "plt.ylabel('fraction of samples')\n",
    "plt.xlabel('$x$')\n",
    "# достаточно уменьшить количество выборки\n",
    "\n",
    "# статистики исходного распределения\n",
    "print(x.mean()) # матожидание\n",
    "print ( )\n",
    "# ЦПТ\n",
    "mean_cpt_1 = np.array(results).mean()\n",
    "print(mean_cpt)\n",
    "# в теории у нас матожидание должно стремиться к исходному => ЦПТ не выполняется"
   ]
  },
  {
   "cell_type": "markdown",
   "metadata": {},
   "source": [
    "- Сделайте z-преобразование для данного распределения и посчитайте новое матожидание и дисперсию "
   ]
  },
  {
   "cell_type": "code",
   "execution_count": 149,
   "metadata": {
    "scrolled": true
   },
   "outputs": [
    {
     "name": "stdout",
     "output_type": "stream",
     "text": [
      "3.7971186699763226 3.7971186699763226\n",
      "3.1625292852287745 0.19844392120282825\n"
     ]
    }
   ],
   "source": [
    "# OBSOLETE\n",
    "expon_rv = stats.expon(3)\n",
    "n = 4\n",
    "sample = expon_rv.rvs(n) \n",
    "mean_x = sum(sample)/n\n",
    "# s - выборочная дисперсия\n",
    "s = np.sum([(sample[i] - mean_x)**2 for i in range(len(sample))])*1/(n-1)\n",
    "# z-оценка для первого элемента из выборки\n",
    "z = (sample[0] - mean_x)/s**.5\n",
    "# z_m -  среднее выборочное\n",
    "z_m = sum(sample)/n - mean_x\n",
    "# Что-то я тут совсем запутался..как я понял мы можем нормировать и центрировать любую случайнуюю величину из выборки\n",
    "# и потом оценивать эту величину относительно z -  Если z<0, то x (величина) ниже матожидания,\n",
    "# если z>0, то x расположен выше матожидания.\n",
    "# а как вот потом работать с этим (считать новое матожидание и дисперсию) - беда\n",
    "# пересмотрел лекцию третью - почему матожидание 0 получается попробовал изобразить в z_m\n",
    "# с дисперсией как не крутил , единицу получить не смог, хотя в доказательстве из лекции\n",
    "# все предельно ясно. \n",
    "# еще я пробовал найти z для всех величин из выборки, т.е. получить список [z1,z2,...zn]\n",
    "# и уже для этой выборки найти дисперсию и среднее , но не получается 1 и 0...\n",
    "# или я сильно мудрю и делаю что-то совсем не так и ответ на поверхности , или я не понимаю сути..\n"
   ]
  },
  {
   "cell_type": "code",
   "execution_count": 234,
   "metadata": {},
   "outputs": [
    {
     "name": "stdout",
     "output_type": "stream",
     "text": [
      "1.3877787807814457e-16 1.0000000000000002\n"
     ]
    }
   ],
   "source": [
    "expon_rv = stats.expon(3)\n",
    "new_rv = expon_rv.rvs(4)\n",
    "\n",
    "# среднее\n",
    "mean_rv = new_rv.mean()\n",
    "# выборочное среднее\n",
    "var_rv = new_rv.var()**.5\n",
    "\n",
    "z_score = np.array([(new_rv[i] - mean_rv)/new_rv.var()**.5 for i in range(len(new_rv))])\n",
    "\n",
    "new_mean_rv = z_score.mean()\n",
    "new_var_rv = z_score.var()\n",
    "\n",
    "print(new_mean_rv, new_var_rv)\n",
    "\n",
    "#stats.zscore()нашел в документации такую функцию"
   ]
  },
  {
   "cell_type": "markdown",
   "metadata": {},
   "source": [
    "## Доверительные интервалы и гипотезы"
   ]
  },
  {
   "cell_type": "markdown",
   "metadata": {},
   "source": [
    "В данных задачах используйте встроенную функцию, позволяющую искать квантили случайной величины **your_rv**.ppf, а также https://gallery.shinyapps.io/dist_calc/ для визуальной картины"
   ]
  },
  {
   "cell_type": "markdown",
   "metadata": {},
   "source": [
    "- Постройте 90% доверительный интервал для среднего значения $\\mathcal{\\chi^2_{10}}$."
   ]
  },
  {
   "cell_type": "code",
   "execution_count": 252,
   "metadata": {},
   "outputs": [
    {
     "name": "stdout",
     "output_type": "stream",
     "text": [
      "Доверительный интервал на разборе = (0, 15.987179172105263)\n",
      "Доверительный интервал = (10.72856273976515, 11.023742687746756)\n"
     ]
    }
   ],
   "source": [
    "chi2_rv = stats.chi2(10)\n",
    "chi2_rv.ppf(.9)\n",
    "sample = chi2_rv.rvs(16)\n",
    "results = []\n",
    "n = 40\n",
    "for i in range(50):\n",
    "    x = chi2_rv.rvs(n)\n",
    "    results.append(x.mean())\n",
    "# преобразуем results в np array для расчетов\n",
    "f = np.array(results)\n",
    "# потом для 90% смотрим значение коэф http://statsoft.ru/home/textbook/modules/sttable.html#chi. коэф. = 1,6\n",
    "# из slack не понял как его получили 10+-1,6*se\n",
    "s = f.var()\n",
    "se = (s/len(f))**0.5\n",
    "# доверительный интервал 90% (OBSOLETE)\n",
    "#x_left = f.mean() - 1.6*se\n",
    "#x_right = f.mean() + 1.6*se\n",
    "#print(f\"Доверительный интервал = ({x_left}, {x_right})\")\n",
    "print(f\"Доверительный интервал на разборе = ({0}, {chi2_rv.ppf(.9)})\")\n",
    "\n",
    "\n",
    "#  посчитаем mean - 1.6 * se для исходной выборки\n",
    "x_left_s = sample.mean() - 1.6*se\n",
    "x_right_s = sample.mean() + 1.6*se\n",
    "print(f\"Доверительный интервал = ({x_left_s}, {x_right_s})\")"
   ]
  },
  {
   "cell_type": "markdown",
   "metadata": {},
   "source": [
    "- Постройте ДИ для распределения Стьюдента с df = 15 уровня доверия 90%  и 95%. Какой интервал шире?"
   ]
  },
  {
   "cell_type": "code",
   "execution_count": 263,
   "metadata": {},
   "outputs": [
    {
     "name": "stdout",
     "output_type": "stream",
     "text": [
      "Доверительный интервал для 90% = (-0.17030280392522734, 1.1703028039252272)\n",
      "Доверительный интервал для 95% = (-0.37652517784627737, 1.3765251778462773)\n"
     ]
    },
    {
     "data": {
      "image/png": "[encoded data removed]",
      "text/plain": [
       "<Figure size 864x432 with 1 Axes>"
      ]
     },
     "metadata": {
      "needs_background": "light"
     },
     "output_type": "display_data"
    }
   ],
   "source": [
    "#your code here\n",
    "# для себя визуализирую \n",
    "t_rv = sts.t(15)\n",
    "x = np.linspace(-4, 4, 100)\n",
    "plt.figure(figsize=(12,6))\n",
    "\n",
    "pdf = t_rv.pdf(x)\n",
    "plt.plot(x, pdf)\n",
    "\n",
    "plt.legend(['Student df=15'])\n",
    "\n",
    "# Шире 95% , если брать lower tail\n",
    "#print (t_rv.ppf(.9))\n",
    "#print (t_rv.ppf(.95))\n",
    "\n",
    "\n",
    "# нужно брать (1-p)/2 и (1+p)/2 квантили, т.к. интервалы двусторонние\n",
    "_90_left = (1-t_rv.ppf(.9))/2\n",
    "_90_right = (1+t_rv.ppf(.9))/2\n",
    "_95_left = (1-t_rv.ppf(.95))/2\n",
    "_95_right = (1+t_rv.ppf(.95))/2\n",
    "print(f\"Доверительный интервал для 90% = ({_90_left}, {_90_right})\")\n",
    "print(f\"Доверительный интервал для 95% = ({_95_left}, {_95_right})\")\n",
    "# Шире 95%"
   ]
  },
  {
   "cell_type": "markdown",
   "metadata": {},
   "source": [
    "- Сгенерируйте 2 выборки с одинаковыми параметрами, отличающиеся в 2 раза по размеру. Постройте 2 90% ДИ. Чем они отличаются? Распределение $\\mathcal{N}(0,2)$ "
   ]
  },
  {
   "cell_type": "code",
   "execution_count": 14,
   "metadata": {},
   "outputs": [
    {
     "name": "stdout",
     "output_type": "stream",
     "text": [
      "-0.11001542326054292 0.9660767928857595\n",
      "-0.29931365277687755 0.5032473311612551\n"
     ]
    }
   ],
   "source": [
    "norm_rv = stats.norm(0, 2)\n",
    "#your code here\n",
    "norm_rvs_1 = norm_rv.rvs(30)\n",
    "norm_rvs_2 = norm_rv.rvs(60)\n",
    "mean_1 = norm_rvs_1.mean()\n",
    "var_1 = norm_rvs_1.var()\n",
    "mean_2 = norm_rvs_2.mean()\n",
    "var_2 = norm_rvs_2.var()\n",
    "\n",
    "se_1 = (var_1/len(norm_rvs_1))**0.5\n",
    "se_2 = (var_2/len(norm_rvs_2))**0.5\n",
    "\n",
    "x1_left = mean_1 - 1.6*se_1\n",
    "x1_right = mean_1 + 1.6*se_1\n",
    "\n",
    "x2_left = mean_2 - 1.6*se_2\n",
    "x2_right = mean_2 + 1.6*se_2\n",
    "print(x1_left,x1_right)\n",
    "print(x2_left,x2_right)\n",
    "# 2-ой ДИ уже из-за того , что разброс будет меньше"
   ]
  },
  {
   "cell_type": "markdown",
   "metadata": {},
   "source": [
    "- Пусть $H_0: M=100$. Мы получили $p = 0,12$ и не смогли отклонить нулевую гипотезу. Однако позже выяснилось, что среднее в генеральной совокупности равняется 114. Ошибку какого рода мы допустили?"
   ]
  },
  {
   "cell_type": "markdown",
   "metadata": {},
   "source": [
    "<span style=\"color:blue\">*Второго рода (неверная гипотеза  𝐻0 была принята)* </span>\n"
   ]
  },
  {
   "cell_type": "markdown",
   "metadata": {},
   "source": [
    "#### Какие рассуждения относительно p-value верные?\n",
    "\n",
    "- Если p уровень значимости равен 0,003, то вероятность того, что верна нулевая гипотеза также равняется  0,003.\n",
    "- Если бы в исследовании мы получили $p=0,9$, это означало бы, что верна нулевая гипотеза.\n",
    "- Чем меньше p уровень значимости, тем хуже гипотеза.\n"
   ]
  },
  {
   "cell_type": "markdown",
   "metadata": {},
   "source": [
    "<span style=\"color:blue\">*1) неверно  \n",
    "    2) нет, это означает только, что данную гипотезу нельзя отвергать  \n",
    "    3) нет, в любом случае надо проверять, если будет удовлетоврять условию принятия гипотезы* </span>  \n",
    "    <span style=\"color:orange\">3) *хм, если \"Не, это одно из популярных заблуждений\" верно, то ответ\n",
    "    опозитный Нет будет Да. я посмотрел лекцию 5, получается, что чем меньше p-value, тем менее вероятно наше событие*</span>"
   ]
  },
  {
   "cell_type": "markdown",
   "metadata": {},
   "source": [
    "- Какое $p$-value будете использовать, если отклонять $H_0$ рисковано: $0.05$ или $0.01$? Является ли 99% доверительный интервал хорошей оценкой в общем случае?"
   ]
  },
  {
   "cell_type": "markdown",
   "metadata": {},
   "source": [
    "<span style=\"color:blue\">*1) Т.к. принято считать, что при $p < 0.05$ гипотезу $H_0$ стоит отвергать, то буду использовать 0.05  \n",
    "    2) Да, т.к. чем ближе к единице, тем точнее оценка. 0,99 означает, что мы не берем во внимание появление события ,вероятность которого меньше 1-0,99=0,01.* </span>\n",
    "<span style=\"color:orange\">1) *Буду использовать тогда 0,05 :) *</span>\n"
   ]
  },
  {
   "cell_type": "code",
   "execution_count": 15,
   "metadata": {},
   "outputs": [],
   "source": [
    "#your answer here"
   ]
  },
  {
   "cell_type": "markdown",
   "metadata": {},
   "source": [
    "## Стьюдент и корреляция"
   ]
  },
  {
   "cell_type": "markdown",
   "metadata": {},
   "source": [
    "- Изобразите графики плотности распределения Стьюдента для нескольких значений df= (5,10, 20, 40) и $\\mathcal{N}(0,1)$. В чем отличия?"
   ]
  },
  {
   "cell_type": "code",
   "execution_count": 16,
   "metadata": {},
   "outputs": [
    {
     "data": {
      "text/plain": [
       "<matplotlib.legend.Legend at 0x1a202180f0>"
      ]
     },
     "execution_count": 16,
     "metadata": {},
     "output_type": "execute_result"
    },
    {
     "data": {
      "image/png": "[encoded data removed]",
      "text/plain": [
       "<Figure size 1296x720 with 1 Axes>"
      ]
     },
     "metadata": {
      "needs_background": "light"
     },
     "output_type": "display_data"
    }
   ],
   "source": [
    "#your code here\n",
    "t_rv = sts.t(5)\n",
    "t_rv_2 = sts.t(10)\n",
    "t_rv_3 = sts.t(20)\n",
    "t_rv_4 = sts.t(40)\n",
    "norm_rv = sts.norm(0, 1)\n",
    "\n",
    "x = np.linspace(-4, 4, 100)\n",
    "\n",
    "plt.figure(figsize=(18,10))\n",
    "\n",
    "pdf = t_rv.pdf(x)\n",
    "plt.plot(x, pdf)\n",
    "\n",
    "pdf_2 = t_rv_2.pdf(x)\n",
    "plt.plot(x, pdf_2)\n",
    "\n",
    "pdf_3 = t_rv_3.pdf(x)\n",
    "plt.plot(x, pdf_3)\n",
    "\n",
    "pdf_4 = t_rv_4.pdf(x)\n",
    "plt.plot(x, pdf_4)\n",
    "\n",
    "pdf_norm = norm_rv.pdf(x)\n",
    "plt.plot(x, pdf_norm)\n",
    "\n",
    "plt.legend(['Student df=5', 'Student df=10', 'Student df=20', 'Student df=40','norm a=0, sigma=1'])\n",
    "\n",
    "# чем выше степень свободы, тем график плотности ближе к нормальному распределению, т.е. чем меньше  df , тем больше\n",
    "# выбросов"
   ]
  },
  {
   "cell_type": "markdown",
   "metadata": {},
   "source": [
    "- Постройте две выборки, чтобы их корреляция была равна -1. Изобразите зависимость на графике."
   ]
  },
  {
   "cell_type": "code",
   "execution_count": 306,
   "metadata": {},
   "outputs": [
    {
     "name": "stdout",
     "output_type": "stream",
     "text": [
      "-200.0\n",
      "-1.0\n"
     ]
    },
    {
     "data": {
      "text/plain": [
       "<matplotlib.axes._subplots.AxesSubplot at 0x1a210be400>"
      ]
     },
     "execution_count": 306,
     "metadata": {},
     "output_type": "execute_result"
    },
    {
     "data": {
      "image/png": "[encoded data removed]",
      "text/plain": [
       "<Figure size 432x288 with 2 Axes>"
      ]
     },
     "metadata": {
      "needs_background": "light"
     },
     "output_type": "display_data"
    }
   ],
   "source": [
    "#your code here\n",
    "# with heatmap (cor = -1)\n",
    "x_1 = np.array([40,50,60,70,80])\n",
    "y_1 = np.array([-30,-40,-50,-60,-70])\n",
    "df = pd.DataFrame()\n",
    "\n",
    "\n",
    "df['x'] = x_1\n",
    "df['y'] = y_1\n",
    "cr = df.corr()\n",
    "# ковариация\n",
    "print(np.cov(x_1,y_1,bias=True)[0][1])\n",
    "# корреляция\n",
    "corr = np.cov(x_1,y_1,bias=True)[0][1]/(x_1.var() * y_1.var())**.5\n",
    "print(corr)\n",
    "sns.heatmap(cr, annot=True,\n",
    "            xticklabels=cr.columns.values,\n",
    "            yticklabels=cr.columns.values)"
   ]
  },
  {
   "cell_type": "code",
   "execution_count": 286,
   "metadata": {},
   "outputs": [
    {
     "data": {
      "text/plain": [
       "<matplotlib.axes._subplots.AxesSubplot at 0x1a1ff25c50>"
      ]
     },
     "execution_count": 286,
     "metadata": {},
     "output_type": "execute_result"
    },
    {
     "data": {
      "image/png": "[encoded data removed]",
      "text/plain": [
       "<Figure size 432x288 with 1 Axes>"
      ]
     },
     "metadata": {
      "needs_background": "light"
     },
     "output_type": "display_data"
    }
   ],
   "source": [
    "# with liner chart (cor = -1)\n",
    "sns.regplot(x=\"x\", y=\"y\", data=df)"
   ]
  },
  {
   "cell_type": "code",
   "execution_count": 341,
   "metadata": {},
   "outputs": [],
   "source": [
    "x_2 = np.array([40,50,60,70,80])\n",
    "y_2 = np.array([0,0,0,0,0])\n",
    "df_1 = pd.DataFrame()\n",
    "\n",
    "\n",
    "df_1['x'] = x_2\n",
    "df_1['y'] = y_2\n",
    "cr_2 = df_1.corr()\n",
    "\n",
    "\n",
    "# ковариация\n",
    "cov = np.cov(x_2,y_2,bias=True)[0][1]\n",
    "# корреляция = 0, т.к. cov =0"
   ]
  },
  {
   "cell_type": "code",
   "execution_count": 342,
   "metadata": {},
   "outputs": [
    {
     "data": {
      "text/plain": [
       "<matplotlib.axes._subplots.AxesSubplot at 0x1a2246ae48>"
      ]
     },
     "execution_count": 342,
     "metadata": {},
     "output_type": "execute_result"
    },
    {
     "data": {
      "image/png": "[encoded data removed]",
      "text/plain": [
       "<Figure size 432x288 with 1 Axes>"
      ]
     },
     "metadata": {
      "needs_background": "light"
     },
     "output_type": "display_data"
    }
   ],
   "source": [
    "sns.regplot(x=\"x\", y=\"y\", data=df_1)"
   ]
  },
  {
   "cell_type": "markdown",
   "metadata": {},
   "source": [
    "- Постройте две выборки, чтобы их корреляция была равна 0. Изобразите зависимость на графике."
   ]
  },
  {
   "cell_type": "code",
   "execution_count": 546,
   "metadata": {},
   "outputs": [
    {
     "name": "stdout",
     "output_type": "stream",
     "text": [
      "-0.0007003227444600773\n"
     ]
    },
    {
     "name": "stderr",
     "output_type": "stream",
     "text": [
      "/Users/maxim/anaconda3/lib/python3.6/site-packages/scipy/stats/stats.py:1713: FutureWarning: Using a non-tuple sequence for multidimensional indexing is deprecated; use `arr[tuple(seq)]` instead of `arr[seq]`. In the future this will be interpreted as an array index, `arr[np.array(seq)]`, which will result either in an error or a different result.\n",
      "  return np.add.reduce(sorted[indexer] * weights, axis=axis) / sumval\n"
     ]
    },
    {
     "data": {
      "text/plain": [
       "<matplotlib.axes._subplots.AxesSubplot at 0x1a2ccc6668>"
      ]
     },
     "execution_count": 546,
     "metadata": {},
     "output_type": "execute_result"
    },
    {
     "data": {
      "image/png": "[encoded data removed]",
      "text/plain": [
       "<Figure size 432x288 with 1 Axes>"
      ]
     },
     "metadata": {
      "needs_background": "light"
     },
     "output_type": "display_data"
    }
   ],
   "source": [
    "## your code here\n",
    "x_3 = np.array([0.37,0.27,0.81,0.77,0.01,-0.68,0.60,-0.24,0.29,-0.4,0.15,0.36,-0.73,-0.03])\n",
    "y_3 = np.array([0.73,.31,-0.53,-0.58,-0.585,-0.50,0.57,-0.12,-0.42,0.07,0.07,0.01,0.17,0.10])\n",
    "\n",
    "df_3 = pd.DataFrame()\n",
    "\n",
    "df_3['x'] = x_3\n",
    "df_3['y'] = y_3\n",
    "cr_3 = df_3.corr()\n",
    "cov_3 = np.cov(x_3,y_3,bias=True)[0][1]\n",
    "corr_3 = cov_3/(x_3.var() * y_3.var())**.5\n",
    "print(corr_3)\n",
    "\n",
    "sns.regplot(x=\"x\", y=\"y\", data=df_3)"
   ]
  },
  {
   "cell_type": "markdown",
   "metadata": {},
   "source": [
    "- Сгенерируйте 2 выборки из $\\mathcal{N}(4,2)$, посчитайте их общий ранг и сумму рангов в каждой выборке."
   ]
  },
  {
   "cell_type": "code",
   "execution_count": 20,
   "metadata": {},
   "outputs": [
    {
     "name": "stdout",
     "output_type": "stream",
     "text": [
      "9633 10267\n"
     ]
    }
   ],
   "source": [
    "norm_rv = stats.norm(4,2)\n",
    "sample_1 = norm_rv.rvs(100)\n",
    "sample_2 = norm_rv.rvs(100)\n",
    "sample = np.concatenate((sample_1, sample_2))\n",
    "\n",
    "#your code here\n",
    "# сортировка, ранжирование\n",
    "data = list(enumerate(sorted(sample)))\n",
    "sum_sample_1 = 0\n",
    "sum_sample_2 = 0\n",
    "# сумма рангов каждой выборки\n",
    "for i in data:\n",
    "    if i[1] in sample_1:\n",
    "        sum_sample_1+= i[0]\n",
    "    else:\n",
    "        sum_sample_2+= i[0]\n",
    "print(sum_sample_1,sum_sample_2)        "
   ]
  },
  {
   "cell_type": "code",
   "execution_count": null,
   "metadata": {},
   "outputs": [],
   "source": []
  }
 ],
 "metadata": {
  "kernelspec": {
   "display_name": "Python 3",
   "language": "python",
   "name": "python3"
  },
  "language_info": {
   "codemirror_mode": {
    "name": "ipython",
    "version": 3
   },
   "file_extension": ".py",
   "mimetype": "text/x-python",
   "name": "python",
   "nbconvert_exporter": "python",
   "pygments_lexer": "ipython3",
   "version": "3.6.8"
  }
 },
 "nbformat": 4,
 "nbformat_minor": 2
}
