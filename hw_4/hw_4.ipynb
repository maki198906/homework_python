{
 "cells": [
  {
   "cell_type": "markdown",
   "metadata": {},
   "source": [
    " * Задание 1\n",
    "Напишите функцию date_range, которая возвращает список дней между датами start_date и end_date. Даты должны вводиться в формате YYYY-MM-DD."
   ]
  },
  {
   "cell_type": "code",
   "execution_count": null,
   "metadata": {},
   "outputs": [],
   "source": [
    "from datetime import datetime\n",
    "from datetime import timedelta"
   ]
  },
  {
   "cell_type": "code",
   "execution_count": null,
   "metadata": {},
   "outputs": [],
   "source": [
    "list_of_days = []\n",
    "start_date = '2018-01-01'\n",
    "end_date = '2018-01-07'\n",
    "def date_range():\n",
    "    try:\n",
    "        dt_start_date = datetime.strptime(start_date, '%Y-%m-%d')\n",
    "        dt_end_date = datetime.strptime(end_date, '%Y-%m-%d')\n",
    "        current_day = dt_start_date\n",
    "        while current_day < dt_end_date:\n",
    "            list_of_days.append(current_day.strftime('%Y-%m-%d'))\n",
    "            current_day += timedelta(days=1)\n",
    "        return list_of_days\n",
    "    except:\n",
    "        print (list_of_days)\n",
    "date_range()"
   ]
  },
  {
   "cell_type": "markdown",
   "metadata": {},
   "source": [
    " * Задание 2\n",
    "Дополните функцию из первого задания проверкой на корректность дат. В случае неверного формата или если start_date > end_date должен возвращаться пустой список."
   ]
  },
  {
   "cell_type": "code",
   "execution_count": null,
   "metadata": {},
   "outputs": [],
   "source": [
    "def check_dates (start_date,end_date):\n",
    "    '''\n",
    "    Проверка формата дат'''\n",
    "    try:\n",
    "        datetime.strptime(start_date, '%Y-%m-%d')\n",
    "        datetime.strptime(end_date, '%Y-%m-%d')\n",
    "        if datetime.strptime(start_date, '%Y-%m-%d').date() > datetime.strptime(end_date, '%Y-%m-%d').date():\n",
    "            print (list_of_days)\n",
    "    except:\n",
    "        print (list_of_days)\n",
    "check_dates (start_date,end_date)        "
   ]
  },
  {
   "cell_type": "markdown",
   "metadata": {},
   "source": [
    " * Задание 3\n",
    "Дан поток дат в формате YYYY-MM-DD, в которых встречаются некорректные значения:\n",
    "stream = ['2018-04-02', '2018-02-29', '2018-19-02']\n",
    "Напишите функцию, которая проверяет эти даты на корректность. Т. е. для каждой даты возвращает True (дата корректна) или False (некорректная дата). "
   ]
  },
  {
   "cell_type": "code",
   "execution_count": null,
   "metadata": {},
   "outputs": [],
   "source": [
    "stream = ['2018-04-02', '2018-02-29', '2018-19-02']\n",
    "def correct_date_in_stream():\n",
    "    ''' Проверяет эти даты на корректность, для каждой даты возвращает True (дата корректна) или False (некорректная дата).\n",
    "    '''\n",
    "    for line in stream:\n",
    "        try:\n",
    "            datetime.strptime(line, '%Y-%m-%d')\n",
    "            print (line, True)\n",
    "        except:\n",
    "            print (line, False)\n",
    "correct_date_in_stream()       "
   ]
  },
  {
   "cell_type": "markdown",
   "metadata": {},
   "source": [
    " * Задание 4\n",
    "Напишите функцию, которая возвращает список дат с 1 по вчерашний день текущего месяца.\n",
    "Если дан 1 день месяца, то возвращается список дней прошлого месяца"
   ]
  },
  {
   "cell_type": "code",
   "execution_count": null,
   "metadata": {},
   "outputs": [],
   "source": [
    "days = []\n",
    "now = datetime.today().date()\n",
    "def month_range():\n",
    "    '''\n",
    "    Возвращает список дат с 1 по вчерашний день текущего месяца\n",
    "    '''\n",
    "    yesterday = now - timedelta(days=1)\n",
    "    first_day = datetime.today().replace(day=1).date()\n",
    "    while first_day <= yesterday:\n",
    "        days.append(first_day.strftime('%Y-%m-%d'))\n",
    "        first_day += timedelta(days=1)\n",
    "    return days\n",
    "month_range()"
   ]
  },
  {
   "cell_type": "code",
   "execution_count": null,
   "metadata": {},
   "outputs": [],
   "source": [
    "previous_days = []\n",
    "def previous_month_range():\n",
    "    '''\n",
    "    Дан 1 день месяца, возвращается список дней прошлого месяца\n",
    "    '''\n",
    "    first_day = datetime.today().replace(day=1).date()\n",
    "    previous_month = first_day - timedelta(days=1)\n",
    "    first_day_prev_month = previous_month.replace(day=1)\n",
    "    while first_day_prev_month < first_day:\n",
    "        previous_days.append(first_day_prev_month.strftime('%Y-%m-%d'))\n",
    "        first_day_prev_month += timedelta(days=1)\n",
    "    return previous_days\n",
    "previous_month_range()"
   ]
  },
  {
   "cell_type": "markdown",
   "metadata": {},
   "source": [
    "* Задание 5\n",
    "Напишите функцию, которая возвращает точную дату в формате YYYY-MM-DD по фразе:\n",
    "1. 'today' - сегодняшнюю дату\n",
    "2. 'last monday' -  прошлый понедельник\n",
    "3. 'last day' - Последний день текущего месяца"
   ]
  },
  {
   "cell_type": "code",
   "execution_count": null,
   "metadata": {},
   "outputs": [],
   "source": [
    "from calendar import monthrange\n",
    "x = ''\n",
    "def current(x):\n",
    "    '''возвращает точную дату в формате YYYY-MM-DD по фразе\n",
    "    '''\n",
    "    if x =='today':\n",
    "        return ('Today {}'.format(datetime.today().date()))\n",
    "    if x =='last monday':\n",
    "        return ('Last Monday {}'.format((datetime.today()- timedelta(weeks=1,days=-1)).date()))\n",
    "    if x == 'last day':\n",
    "        return ('Last day {}-{}-{}'.format(datetime.now().year,datetime.now().month,monthrange(datetime.now().year, datetime.now().month)[1]))\n",
    "current('last monday')    "
   ]
  },
  {
   "cell_type": "markdown",
   "metadata": {},
   "source": [
    "* Задание 6\n",
    "Напишите функцию, которая разбивает на недели с понедельника по воскресенье интервал дат между start_date и end_date. Считайте, что входные данные всегда корректны. В ответ должны входить только полные недели."
   ]
  },
  {
   "cell_type": "code",
   "execution_count": 85,
   "metadata": {},
   "outputs": [
    {
     "name": "stdout",
     "output_type": "stream",
     "text": [
      "18.0\n"
     ]
    }
   ],
   "source": [
    "start_date_6 = '2018-01-01'\n",
    "end_date_6 = '2018-05-07'\n",
    "weeks = []\n",
    "dt_start_date_6 = datetime.strptime(start_date_6, '%Y-%m-%d')\n",
    "dt_end_date_6 = datetime.strptime(end_date_6, '%Y-%m-%d')\n",
    "n = dt_end_date_6 - dt_start_date_6\n",
    "b= str(n)\n",
    "a = int(b.split()[0])\n",
    "j=0\n",
    "print (a/7)\n",
    "\n"
   ]
  },
  {
   "cell_type": "code",
   "execution_count": null,
   "metadata": {},
   "outputs": [],
   "source": []
  }
 ],
 "metadata": {
  "kernelspec": {
   "display_name": "Python 3",
   "language": "python",
   "name": "python3"
  },
  "language_info": {
   "codemirror_mode": {
    "name": "ipython",
    "version": 3
   },
   "file_extension": ".py",
   "mimetype": "text/x-python",
   "name": "python",
   "nbconvert_exporter": "python",
   "pygments_lexer": "ipython3",
   "version": "3.7.0"
  }
 },
 "nbformat": 4,
 "nbformat_minor": 2
}
