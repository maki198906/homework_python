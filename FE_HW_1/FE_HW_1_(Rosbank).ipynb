{
 "cells": [
  {
   "cell_type": "code",
   "execution_count": 1,
   "metadata": {},
   "outputs": [],
   "source": [
    "import pandas as pd\n",
    "import numpy as np\n",
    "import matplotlib.pyplot as plt\n",
    "%matplotlib inline\n",
    "import datetime\n",
    "import seaborn as sns"
   ]
  },
  {
   "cell_type": "markdown",
   "metadata": {},
   "source": [
    "## Rosbank ML Competition"
   ]
  },
  {
   "cell_type": "markdown",
   "metadata": {},
   "source": [
    "Ссылка на соревнование: https://boosters.pro/champ_15"
   ]
  },
  {
   "cell_type": "markdown",
   "metadata": {},
   "source": [
    "Росбанк – часть ведущей международной финансовой группы Societe Generale, банк включен ЦБ РФ в число 11 системно значимых кредитных организаций России. Инновации неотъемлемый процесс работы Росбанка, поэтому активно развивается направленный анализа больших данных."
   ]
  },
  {
   "cell_type": "markdown",
   "metadata": {},
   "source": [
    "- Данные\n",
    "\n",
    "Датасет, который содержит историю транзакций клиентов за 3 месяца льготного использования банковского продукта\n",
    "\n",
    "- Задача\n",
    "\n",
    "Задача бинарной классификации – прогноз оттока клиентов\n",
    "\n",
    "Колонка cl_id содержит вутренний id клиента. Для каждого уникальнго cl_id следует предсказать продолжит ли клиент пользоваться продуктом (target_flag). Значение 0 соответствует отказу, а значение 1 соответствует продолжению использования"
   ]
  },
  {
   "cell_type": "code",
   "execution_count": 2,
   "metadata": {},
   "outputs": [
    {
     "data": {
      "text/html": [
       "<div>\n",
       "<style scoped>\n",
       "    .dataframe tbody tr th:only-of-type {\n",
       "        vertical-align: middle;\n",
       "    }\n",
       "\n",
       "    .dataframe tbody tr th {\n",
       "        vertical-align: top;\n",
       "    }\n",
       "\n",
       "    .dataframe thead th {\n",
       "        text-align: right;\n",
       "    }\n",
       "</style>\n",
       "<table border=\"1\" class=\"dataframe\">\n",
       "  <thead>\n",
       "    <tr style=\"text-align: right;\">\n",
       "      <th></th>\n",
       "      <th>PERIOD</th>\n",
       "      <th>cl_id</th>\n",
       "      <th>MCC</th>\n",
       "      <th>channel_type</th>\n",
       "      <th>currency</th>\n",
       "      <th>TRDATETIME</th>\n",
       "      <th>amount</th>\n",
       "      <th>trx_category</th>\n",
       "      <th>target_flag</th>\n",
       "      <th>target_sum</th>\n",
       "    </tr>\n",
       "  </thead>\n",
       "  <tbody>\n",
       "    <tr>\n",
       "      <th>0</th>\n",
       "      <td>01/10/2017</td>\n",
       "      <td>0</td>\n",
       "      <td>5200</td>\n",
       "      <td>NaN</td>\n",
       "      <td>810</td>\n",
       "      <td>21OCT17:00:00:00</td>\n",
       "      <td>5023.0</td>\n",
       "      <td>POS</td>\n",
       "      <td>0</td>\n",
       "      <td>0.0</td>\n",
       "    </tr>\n",
       "    <tr>\n",
       "      <th>1</th>\n",
       "      <td>01/10/2017</td>\n",
       "      <td>0</td>\n",
       "      <td>6011</td>\n",
       "      <td>NaN</td>\n",
       "      <td>810</td>\n",
       "      <td>12OCT17:12:24:07</td>\n",
       "      <td>20000.0</td>\n",
       "      <td>DEPOSIT</td>\n",
       "      <td>0</td>\n",
       "      <td>0.0</td>\n",
       "    </tr>\n",
       "    <tr>\n",
       "      <th>2</th>\n",
       "      <td>01/12/2017</td>\n",
       "      <td>0</td>\n",
       "      <td>5921</td>\n",
       "      <td>NaN</td>\n",
       "      <td>810</td>\n",
       "      <td>05DEC17:00:00:00</td>\n",
       "      <td>767.0</td>\n",
       "      <td>POS</td>\n",
       "      <td>0</td>\n",
       "      <td>0.0</td>\n",
       "    </tr>\n",
       "    <tr>\n",
       "      <th>3</th>\n",
       "      <td>01/10/2017</td>\n",
       "      <td>0</td>\n",
       "      <td>5411</td>\n",
       "      <td>NaN</td>\n",
       "      <td>810</td>\n",
       "      <td>21OCT17:00:00:00</td>\n",
       "      <td>2031.0</td>\n",
       "      <td>POS</td>\n",
       "      <td>0</td>\n",
       "      <td>0.0</td>\n",
       "    </tr>\n",
       "    <tr>\n",
       "      <th>4</th>\n",
       "      <td>01/10/2017</td>\n",
       "      <td>0</td>\n",
       "      <td>6012</td>\n",
       "      <td>NaN</td>\n",
       "      <td>810</td>\n",
       "      <td>24OCT17:13:14:24</td>\n",
       "      <td>36562.0</td>\n",
       "      <td>C2C_OUT</td>\n",
       "      <td>0</td>\n",
       "      <td>0.0</td>\n",
       "    </tr>\n",
       "  </tbody>\n",
       "</table>\n",
       "</div>"
      ],
      "text/plain": [
       "       PERIOD  cl_id   MCC channel_type  currency        TRDATETIME   amount  \\\n",
       "0  01/10/2017      0  5200          NaN       810  21OCT17:00:00:00   5023.0   \n",
       "1  01/10/2017      0  6011          NaN       810  12OCT17:12:24:07  20000.0   \n",
       "2  01/12/2017      0  5921          NaN       810  05DEC17:00:00:00    767.0   \n",
       "3  01/10/2017      0  5411          NaN       810  21OCT17:00:00:00   2031.0   \n",
       "4  01/10/2017      0  6012          NaN       810  24OCT17:13:14:24  36562.0   \n",
       "\n",
       "  trx_category  target_flag  target_sum  \n",
       "0          POS            0         0.0  \n",
       "1      DEPOSIT            0         0.0  \n",
       "2          POS            0         0.0  \n",
       "3          POS            0         0.0  \n",
       "4      C2C_OUT            0         0.0  "
      ]
     },
     "execution_count": 2,
     "metadata": {},
     "output_type": "execute_result"
    }
   ],
   "source": [
    "raw_df = pd.read_csv('rosbank_train.csv')\n",
    "raw_df.head(5)\n",
    "# target_sum - можно выкинуть, переменная участвует в другой задаче"
   ]
  },
  {
   "cell_type": "code",
   "execution_count": 3,
   "metadata": {},
   "outputs": [
    {
     "name": "stdout",
     "output_type": "stream",
     "text": [
      "<class 'pandas.core.frame.DataFrame'>\n",
      "RangeIndex: 490513 entries, 0 to 490512\n",
      "Data columns (total 10 columns):\n",
      "PERIOD          490513 non-null object\n",
      "cl_id           490513 non-null int64\n",
      "MCC             490513 non-null int64\n",
      "channel_type    487603 non-null object\n",
      "currency        490513 non-null int64\n",
      "TRDATETIME      490513 non-null object\n",
      "amount          490513 non-null float64\n",
      "trx_category    490513 non-null object\n",
      "target_flag     490513 non-null int64\n",
      "target_sum      490513 non-null float64\n",
      "dtypes: float64(2), int64(4), object(4)\n",
      "memory usage: 37.4+ MB\n"
     ]
    }
   ],
   "source": [
    "raw_df.info()"
   ]
  },
  {
   "cell_type": "code",
   "execution_count": 4,
   "metadata": {},
   "outputs": [
    {
     "name": "stdout",
     "output_type": "stream",
     "text": [
      "Total clients:  5000\n"
     ]
    }
   ],
   "source": [
    "print(\"Total clients: \", len(raw_df.cl_id.unique()))"
   ]
  },
  {
   "cell_type": "markdown",
   "metadata": {},
   "source": [
    "Всего 5000 клиентов, случайным образом возьмем 1000 клиентов для тестирования"
   ]
  },
  {
   "cell_type": "code",
   "execution_count": 5,
   "metadata": {},
   "outputs": [],
   "source": [
    "cl_ids_test = np.random.choice(raw_df.cl_id.unique(), size=1000, replace=False)\n",
    "cl_ids_test_set = set(cl_ids_test)"
   ]
  },
  {
   "cell_type": "code",
   "execution_count": 6,
   "metadata": {},
   "outputs": [
    {
     "name": "stdout",
     "output_type": "stream",
     "text": [
      "Total transactions in train dataset:  396307\n",
      "Total transactions in test dataset:  94206\n"
     ]
    }
   ],
   "source": [
    "# create transactions dataset for train\n",
    "transactions_train = raw_df[~raw_df.cl_id.isin(cl_ids_test)].copy()\n",
    "print(\"Total transactions in train dataset: \", len(transactions_train))\n",
    "# create transactions dataset for test\n",
    "transactions_test = raw_df[raw_df.cl_id.isin(cl_ids_test)].copy()\n",
    "print(\"Total transactions in test dataset: \", len(transactions_test))"
   ]
  },
  {
   "cell_type": "markdown",
   "metadata": {},
   "source": [
    "## Домашняя работа\n",
    "\n",
    "1. Наборы данных вида Transactions (несколько транзакций на одного клиента) трансформировать в таблицу, где cl_id будут уникальными (соответственно 4000 строк в train и 1000 строк в test\n",
    "2. Для каждого cl_id будет уникальное целевое событие target_flag, а также уникальный канал привлечения клиента channel_type (клиент привлекается лишь однажды и с самого начала его записи присваивается значение канала привлечения)\n",
    "3. При агрегации (*pandas.DataFrame.groupby*) по cl_id (или по связке cl_id, channel_type, target_flag) необходимо создавать производные фичи, идеи для таких фичей могут быть следующими:\n",
    "\n",
    "    - общая сумма транзакций по каждой из trx_category\n",
    "    - общая сумма транзакции по основным вылютам (напр. выделить рубли, доллары и евро - предположительно, это будут самые крупные категории)\n",
    "    - общая сумма транзакций по категориям MCC кодов (например, выбрать основные/популярные MCC коды). ВНИМАНИ! Некоторые MCC коды из train могут быть не представлены в test. Про MCC коды в целом: http://www.banki.ru/wikibank/mcc-kod/; Справочник MCC кодов: https://mcc-codes.ru/code; Про некоторые категории кэшбека Росбанка: https://mcc-codes.ru/card/rosbank-sverkh-plus;\n",
    "    - возможные агрегации по времени суток и дням недели - траты в выходные (праздники) или будни, в ночное время или в рабочее и т.д.\n",
    "4. **Обязательная часть**: провести первичный анализ данных - посмотреть распределения признаков, выделить самые популярные MCC, помотреть активность клиентов по дням недели/времени, какие категории транзакции (trx_category) наиболее популярны и т.д. Получить инсайты, которые в дальнейшем помогут вам правильно подготовить фичи\n",
    "5. **Дополнительная часть**: с отобранными фичами и полученными компонентами обучить модель (тип алгоритма на свой вкус, можно начать с линейной) и померить качество на локальном тестовом наборе данных (локальная валидация), который создается в этом ноутбуке. **Метрика оценки качества - ROC AUC**(https://en.wikipedia.org/wiki/Receiver_operating_characteristic)\n",
    "6. Задания принимаются в виде ноутбука с кодов/картинками выполненной обязательной части\n",
    "\n",
    "При возникновении вопросов и для отправки домашнего задания - egsachko@gmail.com или http://fb.com/sachkoe\n",
    "    "
   ]
  },
  {
   "cell_type": "markdown",
   "metadata": {},
   "source": [
    "## Практика"
   ]
  },
  {
   "cell_type": "code",
   "execution_count": 7,
   "metadata": {},
   "outputs": [
    {
     "data": {
      "text/html": [
       "<div>\n",
       "<style scoped>\n",
       "    .dataframe tbody tr th:only-of-type {\n",
       "        vertical-align: middle;\n",
       "    }\n",
       "\n",
       "    .dataframe tbody tr th {\n",
       "        vertical-align: top;\n",
       "    }\n",
       "\n",
       "    .dataframe thead th {\n",
       "        text-align: right;\n",
       "    }\n",
       "</style>\n",
       "<table border=\"1\" class=\"dataframe\">\n",
       "  <thead>\n",
       "    <tr style=\"text-align: right;\">\n",
       "      <th></th>\n",
       "      <th>PERIOD</th>\n",
       "      <th>cl_id</th>\n",
       "      <th>MCC</th>\n",
       "      <th>channel_type</th>\n",
       "      <th>currency</th>\n",
       "      <th>TRDATETIME</th>\n",
       "      <th>amount</th>\n",
       "      <th>trx_category</th>\n",
       "      <th>target_flag</th>\n",
       "      <th>target_sum</th>\n",
       "    </tr>\n",
       "  </thead>\n",
       "  <tbody>\n",
       "    <tr>\n",
       "      <th>0</th>\n",
       "      <td>01/10/2017</td>\n",
       "      <td>0</td>\n",
       "      <td>5200</td>\n",
       "      <td>NaN</td>\n",
       "      <td>810</td>\n",
       "      <td>21OCT17:00:00:00</td>\n",
       "      <td>5023.0</td>\n",
       "      <td>POS</td>\n",
       "      <td>0</td>\n",
       "      <td>0.0</td>\n",
       "    </tr>\n",
       "    <tr>\n",
       "      <th>1</th>\n",
       "      <td>01/10/2017</td>\n",
       "      <td>0</td>\n",
       "      <td>6011</td>\n",
       "      <td>NaN</td>\n",
       "      <td>810</td>\n",
       "      <td>12OCT17:12:24:07</td>\n",
       "      <td>20000.0</td>\n",
       "      <td>DEPOSIT</td>\n",
       "      <td>0</td>\n",
       "      <td>0.0</td>\n",
       "    </tr>\n",
       "    <tr>\n",
       "      <th>2</th>\n",
       "      <td>01/12/2017</td>\n",
       "      <td>0</td>\n",
       "      <td>5921</td>\n",
       "      <td>NaN</td>\n",
       "      <td>810</td>\n",
       "      <td>05DEC17:00:00:00</td>\n",
       "      <td>767.0</td>\n",
       "      <td>POS</td>\n",
       "      <td>0</td>\n",
       "      <td>0.0</td>\n",
       "    </tr>\n",
       "    <tr>\n",
       "      <th>3</th>\n",
       "      <td>01/10/2017</td>\n",
       "      <td>0</td>\n",
       "      <td>5411</td>\n",
       "      <td>NaN</td>\n",
       "      <td>810</td>\n",
       "      <td>21OCT17:00:00:00</td>\n",
       "      <td>2031.0</td>\n",
       "      <td>POS</td>\n",
       "      <td>0</td>\n",
       "      <td>0.0</td>\n",
       "    </tr>\n",
       "    <tr>\n",
       "      <th>4</th>\n",
       "      <td>01/10/2017</td>\n",
       "      <td>0</td>\n",
       "      <td>6012</td>\n",
       "      <td>NaN</td>\n",
       "      <td>810</td>\n",
       "      <td>24OCT17:13:14:24</td>\n",
       "      <td>36562.0</td>\n",
       "      <td>C2C_OUT</td>\n",
       "      <td>0</td>\n",
       "      <td>0.0</td>\n",
       "    </tr>\n",
       "  </tbody>\n",
       "</table>\n",
       "</div>"
      ],
      "text/plain": [
       "       PERIOD  cl_id   MCC channel_type  currency        TRDATETIME   amount  \\\n",
       "0  01/10/2017      0  5200          NaN       810  21OCT17:00:00:00   5023.0   \n",
       "1  01/10/2017      0  6011          NaN       810  12OCT17:12:24:07  20000.0   \n",
       "2  01/12/2017      0  5921          NaN       810  05DEC17:00:00:00    767.0   \n",
       "3  01/10/2017      0  5411          NaN       810  21OCT17:00:00:00   2031.0   \n",
       "4  01/10/2017      0  6012          NaN       810  24OCT17:13:14:24  36562.0   \n",
       "\n",
       "  trx_category  target_flag  target_sum  \n",
       "0          POS            0         0.0  \n",
       "1      DEPOSIT            0         0.0  \n",
       "2          POS            0         0.0  \n",
       "3          POS            0         0.0  \n",
       "4      C2C_OUT            0         0.0  "
      ]
     },
     "execution_count": 7,
     "metadata": {},
     "output_type": "execute_result"
    }
   ],
   "source": [
    "raw_df.head()"
   ]
  },
  {
   "cell_type": "code",
   "execution_count": 8,
   "metadata": {},
   "outputs": [],
   "source": [
    "raw_df_grouped = raw_df[\n",
    "    ['cl_id', 'amount', 'MCC']\n",
    "].groupby(['cl_id', 'MCC']).agg(['sum', 'count'])\n",
    "# aggregated_dataset = raw_df_grouped.unstack().fillna(0)\n",
    "aggregated_dataset = raw_df_grouped.unstack()"
   ]
  },
  {
   "cell_type": "code",
   "execution_count": 9,
   "metadata": {},
   "outputs": [],
   "source": [
    "def transaction_by_day_count(dataset):\n",
    "    dataset['day_of_transaction'] = dataset['TRDATETIME'].apply(\n",
    "        lambda x: (datetime.datetime.strptime(x, '%d%b%y:%H:%M:%S')).strftime('%w')\n",
    "    ) \n",
    "    tmp_df = dataset.groupby(\n",
    "        ['cl_id','day_of_transaction']\n",
    "    )['day_of_transaction'].size().unstack().fillna(0).reset_index()\n",
    "    old_columns = [\n",
    "        old_col for old_col in tmp_df.columns.tolist()\n",
    "        if old_col in dataset['day_of_transaction'].unique()\n",
    "    ]\n",
    "    tmp_df.rename(\n",
    "        columns={old_col: 'day_' + old_col for old_col in old_columns},\n",
    "        inplace=True\n",
    "    )\n",
    "    return tmp_df\n",
    "    \n",
    "    \n",
    "\n",
    "def transaction_by_hour_count(dataset):\n",
    "    dataset['hour_of_transaction'] = dataset['TRDATETIME'].apply(\n",
    "        lambda x: (datetime.datetime.strptime(x, '%d%b%y:%H:%M:%S')).strftime('%H')\n",
    "    ) \n",
    "    return dataset.groupby(\n",
    "        ['cl_id','hour_of_transaction']\n",
    "    )['hour_of_transaction'].size().unstack().fillna(0).reset_index()\n",
    "\n",
    "# transaction_by_day_count(raw_df)"
   ]
  },
  {
   "cell_type": "markdown",
   "metadata": {},
   "source": [
    "### Агрегирование с помощью Pandas и обучение базовой модели"
   ]
  },
  {
   "cell_type": "code",
   "execution_count": 10,
   "metadata": {},
   "outputs": [],
   "source": [
    "def get_aggregated_df(df, agg_type, col_to_groupby):\n",
    "    agg_df = df[['cl_id', col_to_groupby, 'amount']].groupby(['cl_id', col_to_groupby]).agg([agg_type])\n",
    "    agg_df = agg_df.unstack(fill_value=0)\n",
    "    agg_df.columns = agg_df.columns.get_level_values(2)\n",
    "\n",
    "    old_name = agg_df.columns.name\n",
    "    old_cols = agg_df.columns\n",
    "    new_cols = [old_name + '_' + agg_type + '_' + str(old_col) for old_col in old_cols]\n",
    "    agg_df.rename(\n",
    "        columns={old_col: new_col for old_col, new_col in zip(old_cols, new_cols)}, inplace=True\n",
    "    )\n",
    "    return agg_df"
   ]
  },
  {
   "cell_type": "code",
   "execution_count": 11,
   "metadata": {},
   "outputs": [],
   "source": [
    "df_train_mcc = pd.merge(\n",
    "    get_aggregated_df(transactions_train, agg_type='mean', col_to_groupby='MCC'),\n",
    "    get_aggregated_df(transactions_train, agg_type='sum', col_to_groupby='MCC'),\n",
    "    left_index=True,\n",
    "    right_index=True,\n",
    ")"
   ]
  },
  {
   "cell_type": "code",
   "execution_count": 12,
   "metadata": {},
   "outputs": [
    {
     "data": {
      "text/plain": [
       "(4000, 664)"
      ]
     },
     "execution_count": 12,
     "metadata": {},
     "output_type": "execute_result"
    }
   ],
   "source": [
    "df_train_mcc.shape"
   ]
  },
  {
   "cell_type": "code",
   "execution_count": 13,
   "metadata": {},
   "outputs": [
    {
     "data": {
      "text/plain": [
       "(396307, 10)"
      ]
     },
     "execution_count": 13,
     "metadata": {},
     "output_type": "execute_result"
    }
   ],
   "source": [
    "transactions_train.shape"
   ]
  },
  {
   "cell_type": "code",
   "execution_count": 14,
   "metadata": {},
   "outputs": [
    {
     "data": {
      "text/plain": [
       "(4000, 664)"
      ]
     },
     "execution_count": 14,
     "metadata": {},
     "output_type": "execute_result"
    }
   ],
   "source": [
    "df_train_mcc.shape"
   ]
  },
  {
   "cell_type": "code",
   "execution_count": 15,
   "metadata": {},
   "outputs": [
    {
     "data": {
      "text/plain": [
       "664"
      ]
     },
     "execution_count": 15,
     "metadata": {},
     "output_type": "execute_result"
    }
   ],
   "source": [
    "len(transactions_train.MCC.unique())*2"
   ]
  },
  {
   "cell_type": "code",
   "execution_count": 16,
   "metadata": {},
   "outputs": [
    {
     "data": {
      "text/plain": [
       "POS               336699\n",
       "DEPOSIT            17270\n",
       "WD_ATM_ROS         15446\n",
       "WD_ATM_PARTNER      7963\n",
       "WD_ATM_OTHER        5724\n",
       "C2C_IN              5624\n",
       "C2C_OUT             4523\n",
       "BACK_TRX            2123\n",
       "CAT                  911\n",
       "CASH_ADV              24\n",
       "Name: trx_category, dtype: int64"
      ]
     },
     "execution_count": 16,
     "metadata": {},
     "output_type": "execute_result"
    }
   ],
   "source": [
    "transactions_train.trx_category.value_counts()"
   ]
  },
  {
   "cell_type": "code",
   "execution_count": 17,
   "metadata": {},
   "outputs": [],
   "source": [
    "df_train_trx_category = pd.merge(\n",
    "    get_aggregated_df(transactions_train, agg_type='mean', col_to_groupby='trx_category'),\n",
    "    get_aggregated_df(transactions_train, agg_type='sum', col_to_groupby='trx_category'),\n",
    "    left_index=True,\n",
    "    right_index=True,\n",
    ")"
   ]
  },
  {
   "cell_type": "code",
   "execution_count": 18,
   "metadata": {},
   "outputs": [],
   "source": [
    "df_train_mcc = pd.merge(\n",
    "    get_aggregated_df(transactions_train, agg_type='mean', col_to_groupby='MCC'),\n",
    "    get_aggregated_df(transactions_train, agg_type='sum', col_to_groupby='MCC'),\n",
    "    left_index=True,\n",
    "    right_index=True,\n",
    ")\n",
    "\n",
    "df_train_trx_category = pd.merge(\n",
    "    get_aggregated_df(transactions_train, agg_type='mean', col_to_groupby='trx_category'),\n",
    "    get_aggregated_df(transactions_train, agg_type='sum', col_to_groupby='trx_category'),\n",
    "    left_index=True,\n",
    "    right_index=True,\n",
    ")\n",
    "\n",
    "df_train = pd.merge(\n",
    "    df_train_mcc,\n",
    "    df_train_trx_category,\n",
    "    left_index=True,\n",
    "    right_index=True,\n",
    ")"
   ]
  },
  {
   "cell_type": "code",
   "execution_count": 19,
   "metadata": {},
   "outputs": [
    {
     "data": {
      "text/html": [
       "<div>\n",
       "<style scoped>\n",
       "    .dataframe tbody tr th:only-of-type {\n",
       "        vertical-align: middle;\n",
       "    }\n",
       "\n",
       "    .dataframe tbody tr th {\n",
       "        vertical-align: top;\n",
       "    }\n",
       "\n",
       "    .dataframe thead th {\n",
       "        text-align: right;\n",
       "    }\n",
       "</style>\n",
       "<table border=\"1\" class=\"dataframe\">\n",
       "  <thead>\n",
       "    <tr style=\"text-align: right;\">\n",
       "      <th></th>\n",
       "      <th>MCC_mean_742</th>\n",
       "      <th>MCC_mean_763</th>\n",
       "      <th>MCC_mean_780</th>\n",
       "      <th>MCC_mean_1520</th>\n",
       "      <th>MCC_mean_1711</th>\n",
       "      <th>MCC_mean_1731</th>\n",
       "      <th>MCC_mean_1750</th>\n",
       "      <th>MCC_mean_1799</th>\n",
       "      <th>MCC_mean_2741</th>\n",
       "      <th>MCC_mean_2842</th>\n",
       "      <th>...</th>\n",
       "      <th>trx_category_sum_BACK_TRX</th>\n",
       "      <th>trx_category_sum_C2C_IN</th>\n",
       "      <th>trx_category_sum_C2C_OUT</th>\n",
       "      <th>trx_category_sum_CASH_ADV</th>\n",
       "      <th>trx_category_sum_CAT</th>\n",
       "      <th>trx_category_sum_DEPOSIT</th>\n",
       "      <th>trx_category_sum_POS</th>\n",
       "      <th>trx_category_sum_WD_ATM_OTHER</th>\n",
       "      <th>trx_category_sum_WD_ATM_PARTNER</th>\n",
       "      <th>trx_category_sum_WD_ATM_ROS</th>\n",
       "    </tr>\n",
       "    <tr>\n",
       "      <th>cl_id</th>\n",
       "      <th></th>\n",
       "      <th></th>\n",
       "      <th></th>\n",
       "      <th></th>\n",
       "      <th></th>\n",
       "      <th></th>\n",
       "      <th></th>\n",
       "      <th></th>\n",
       "      <th></th>\n",
       "      <th></th>\n",
       "      <th></th>\n",
       "      <th></th>\n",
       "      <th></th>\n",
       "      <th></th>\n",
       "      <th></th>\n",
       "      <th></th>\n",
       "      <th></th>\n",
       "      <th></th>\n",
       "      <th></th>\n",
       "      <th></th>\n",
       "      <th></th>\n",
       "    </tr>\n",
       "  </thead>\n",
       "  <tbody>\n",
       "    <tr>\n",
       "      <th>5</th>\n",
       "      <td>0.0</td>\n",
       "      <td>0.0</td>\n",
       "      <td>0.0</td>\n",
       "      <td>0.0</td>\n",
       "      <td>0.0</td>\n",
       "      <td>0.0</td>\n",
       "      <td>0.0</td>\n",
       "      <td>0.0</td>\n",
       "      <td>0.0</td>\n",
       "      <td>0.0</td>\n",
       "      <td>...</td>\n",
       "      <td>13990.0</td>\n",
       "      <td>0.0</td>\n",
       "      <td>33878.38</td>\n",
       "      <td>0.0</td>\n",
       "      <td>0.00</td>\n",
       "      <td>130000.0</td>\n",
       "      <td>290500.75</td>\n",
       "      <td>5500.0</td>\n",
       "      <td>6000.0</td>\n",
       "      <td>66500.0</td>\n",
       "    </tr>\n",
       "    <tr>\n",
       "      <th>9</th>\n",
       "      <td>0.0</td>\n",
       "      <td>0.0</td>\n",
       "      <td>0.0</td>\n",
       "      <td>0.0</td>\n",
       "      <td>0.0</td>\n",
       "      <td>0.0</td>\n",
       "      <td>0.0</td>\n",
       "      <td>0.0</td>\n",
       "      <td>0.0</td>\n",
       "      <td>0.0</td>\n",
       "      <td>...</td>\n",
       "      <td>0.0</td>\n",
       "      <td>296950.0</td>\n",
       "      <td>0.00</td>\n",
       "      <td>0.0</td>\n",
       "      <td>0.00</td>\n",
       "      <td>5000.0</td>\n",
       "      <td>12365.09</td>\n",
       "      <td>0.0</td>\n",
       "      <td>100000.0</td>\n",
       "      <td>435000.0</td>\n",
       "    </tr>\n",
       "    <tr>\n",
       "      <th>10</th>\n",
       "      <td>0.0</td>\n",
       "      <td>0.0</td>\n",
       "      <td>0.0</td>\n",
       "      <td>0.0</td>\n",
       "      <td>0.0</td>\n",
       "      <td>0.0</td>\n",
       "      <td>0.0</td>\n",
       "      <td>0.0</td>\n",
       "      <td>0.0</td>\n",
       "      <td>0.0</td>\n",
       "      <td>...</td>\n",
       "      <td>0.0</td>\n",
       "      <td>10000.0</td>\n",
       "      <td>21692.90</td>\n",
       "      <td>0.0</td>\n",
       "      <td>37694.98</td>\n",
       "      <td>426300.0</td>\n",
       "      <td>200956.11</td>\n",
       "      <td>0.0</td>\n",
       "      <td>5400.0</td>\n",
       "      <td>422300.0</td>\n",
       "    </tr>\n",
       "    <tr>\n",
       "      <th>11</th>\n",
       "      <td>0.0</td>\n",
       "      <td>0.0</td>\n",
       "      <td>0.0</td>\n",
       "      <td>0.0</td>\n",
       "      <td>0.0</td>\n",
       "      <td>0.0</td>\n",
       "      <td>0.0</td>\n",
       "      <td>0.0</td>\n",
       "      <td>0.0</td>\n",
       "      <td>0.0</td>\n",
       "      <td>...</td>\n",
       "      <td>0.0</td>\n",
       "      <td>0.0</td>\n",
       "      <td>0.00</td>\n",
       "      <td>0.0</td>\n",
       "      <td>0.00</td>\n",
       "      <td>182000.0</td>\n",
       "      <td>245747.14</td>\n",
       "      <td>0.0</td>\n",
       "      <td>0.0</td>\n",
       "      <td>0.0</td>\n",
       "    </tr>\n",
       "    <tr>\n",
       "      <th>14</th>\n",
       "      <td>0.0</td>\n",
       "      <td>0.0</td>\n",
       "      <td>0.0</td>\n",
       "      <td>0.0</td>\n",
       "      <td>0.0</td>\n",
       "      <td>0.0</td>\n",
       "      <td>0.0</td>\n",
       "      <td>0.0</td>\n",
       "      <td>0.0</td>\n",
       "      <td>0.0</td>\n",
       "      <td>...</td>\n",
       "      <td>0.0</td>\n",
       "      <td>152700.0</td>\n",
       "      <td>0.00</td>\n",
       "      <td>0.0</td>\n",
       "      <td>0.00</td>\n",
       "      <td>0.0</td>\n",
       "      <td>258990.17</td>\n",
       "      <td>0.0</td>\n",
       "      <td>0.0</td>\n",
       "      <td>37000.0</td>\n",
       "    </tr>\n",
       "  </tbody>\n",
       "</table>\n",
       "<p>5 rows × 684 columns</p>\n",
       "</div>"
      ],
      "text/plain": [
       "       MCC_mean_742  MCC_mean_763  MCC_mean_780  MCC_mean_1520  MCC_mean_1711  \\\n",
       "cl_id                                                                           \n",
       "5               0.0           0.0           0.0            0.0            0.0   \n",
       "9               0.0           0.0           0.0            0.0            0.0   \n",
       "10              0.0           0.0           0.0            0.0            0.0   \n",
       "11              0.0           0.0           0.0            0.0            0.0   \n",
       "14              0.0           0.0           0.0            0.0            0.0   \n",
       "\n",
       "       MCC_mean_1731  MCC_mean_1750  MCC_mean_1799  MCC_mean_2741  \\\n",
       "cl_id                                                               \n",
       "5                0.0            0.0            0.0            0.0   \n",
       "9                0.0            0.0            0.0            0.0   \n",
       "10               0.0            0.0            0.0            0.0   \n",
       "11               0.0            0.0            0.0            0.0   \n",
       "14               0.0            0.0            0.0            0.0   \n",
       "\n",
       "       MCC_mean_2842  ...  trx_category_sum_BACK_TRX  trx_category_sum_C2C_IN  \\\n",
       "cl_id                 ...                                                       \n",
       "5                0.0  ...                    13990.0                      0.0   \n",
       "9                0.0  ...                        0.0                 296950.0   \n",
       "10               0.0  ...                        0.0                  10000.0   \n",
       "11               0.0  ...                        0.0                      0.0   \n",
       "14               0.0  ...                        0.0                 152700.0   \n",
       "\n",
       "       trx_category_sum_C2C_OUT  trx_category_sum_CASH_ADV  \\\n",
       "cl_id                                                        \n",
       "5                      33878.38                        0.0   \n",
       "9                          0.00                        0.0   \n",
       "10                     21692.90                        0.0   \n",
       "11                         0.00                        0.0   \n",
       "14                         0.00                        0.0   \n",
       "\n",
       "       trx_category_sum_CAT  trx_category_sum_DEPOSIT  trx_category_sum_POS  \\\n",
       "cl_id                                                                         \n",
       "5                      0.00                  130000.0             290500.75   \n",
       "9                      0.00                    5000.0              12365.09   \n",
       "10                 37694.98                  426300.0             200956.11   \n",
       "11                     0.00                  182000.0             245747.14   \n",
       "14                     0.00                       0.0             258990.17   \n",
       "\n",
       "       trx_category_sum_WD_ATM_OTHER  trx_category_sum_WD_ATM_PARTNER  \\\n",
       "cl_id                                                                   \n",
       "5                             5500.0                           6000.0   \n",
       "9                                0.0                         100000.0   \n",
       "10                               0.0                           5400.0   \n",
       "11                               0.0                              0.0   \n",
       "14                               0.0                              0.0   \n",
       "\n",
       "       trx_category_sum_WD_ATM_ROS  \n",
       "cl_id                               \n",
       "5                          66500.0  \n",
       "9                         435000.0  \n",
       "10                        422300.0  \n",
       "11                             0.0  \n",
       "14                         37000.0  \n",
       "\n",
       "[5 rows x 684 columns]"
      ]
     },
     "execution_count": 19,
     "metadata": {},
     "output_type": "execute_result"
    }
   ],
   "source": [
    "df_train.head()"
   ]
  },
  {
   "cell_type": "code",
   "execution_count": 20,
   "metadata": {},
   "outputs": [
    {
     "data": {
      "text/html": [
       "<div>\n",
       "<style scoped>\n",
       "    .dataframe tbody tr th:only-of-type {\n",
       "        vertical-align: middle;\n",
       "    }\n",
       "\n",
       "    .dataframe tbody tr th {\n",
       "        vertical-align: top;\n",
       "    }\n",
       "\n",
       "    .dataframe thead th {\n",
       "        text-align: right;\n",
       "    }\n",
       "</style>\n",
       "<table border=\"1\" class=\"dataframe\">\n",
       "  <thead>\n",
       "    <tr style=\"text-align: right;\">\n",
       "      <th></th>\n",
       "      <th>target_flag</th>\n",
       "    </tr>\n",
       "    <tr>\n",
       "      <th>cl_id</th>\n",
       "      <th></th>\n",
       "    </tr>\n",
       "  </thead>\n",
       "  <tbody>\n",
       "    <tr>\n",
       "      <th>0</th>\n",
       "      <td>0</td>\n",
       "    </tr>\n",
       "    <tr>\n",
       "      <th>1</th>\n",
       "      <td>0</td>\n",
       "    </tr>\n",
       "    <tr>\n",
       "      <th>5</th>\n",
       "      <td>1</td>\n",
       "    </tr>\n",
       "    <tr>\n",
       "      <th>9</th>\n",
       "      <td>0</td>\n",
       "    </tr>\n",
       "    <tr>\n",
       "      <th>10</th>\n",
       "      <td>0</td>\n",
       "    </tr>\n",
       "  </tbody>\n",
       "</table>\n",
       "</div>"
      ],
      "text/plain": [
       "       target_flag\n",
       "cl_id             \n",
       "0                0\n",
       "1                0\n",
       "5                1\n",
       "9                0\n",
       "10               0"
      ]
     },
     "execution_count": 20,
     "metadata": {},
     "output_type": "execute_result"
    }
   ],
   "source": [
    "df_targets = raw_df[['cl_id', 'target_flag']].drop_duplicates().copy()\n",
    "df_targets.index = df_targets['cl_id']\n",
    "df_targets = df_targets.drop('cl_id', axis=1)\n",
    "df_targets.head()"
   ]
  },
  {
   "cell_type": "code",
   "execution_count": 21,
   "metadata": {},
   "outputs": [],
   "source": [
    "df_train = pd.merge(\n",
    "    df_train,\n",
    "    df_targets,\n",
    "    left_index=True,\n",
    "    right_index=True,\n",
    "    how='inner'\n",
    ")"
   ]
  },
  {
   "cell_type": "code",
   "execution_count": 22,
   "metadata": {},
   "outputs": [
    {
     "data": {
      "text/html": [
       "<div>\n",
       "<style scoped>\n",
       "    .dataframe tbody tr th:only-of-type {\n",
       "        vertical-align: middle;\n",
       "    }\n",
       "\n",
       "    .dataframe tbody tr th {\n",
       "        vertical-align: top;\n",
       "    }\n",
       "\n",
       "    .dataframe thead th {\n",
       "        text-align: right;\n",
       "    }\n",
       "</style>\n",
       "<table border=\"1\" class=\"dataframe\">\n",
       "  <thead>\n",
       "    <tr style=\"text-align: right;\">\n",
       "      <th></th>\n",
       "      <th>MCC_mean_742</th>\n",
       "      <th>MCC_mean_763</th>\n",
       "      <th>MCC_mean_780</th>\n",
       "      <th>MCC_mean_1520</th>\n",
       "      <th>MCC_mean_1711</th>\n",
       "      <th>MCC_mean_1731</th>\n",
       "      <th>MCC_mean_1750</th>\n",
       "      <th>MCC_mean_1799</th>\n",
       "      <th>MCC_mean_2741</th>\n",
       "      <th>MCC_mean_2842</th>\n",
       "      <th>...</th>\n",
       "      <th>trx_category_sum_C2C_IN</th>\n",
       "      <th>trx_category_sum_C2C_OUT</th>\n",
       "      <th>trx_category_sum_CASH_ADV</th>\n",
       "      <th>trx_category_sum_CAT</th>\n",
       "      <th>trx_category_sum_DEPOSIT</th>\n",
       "      <th>trx_category_sum_POS</th>\n",
       "      <th>trx_category_sum_WD_ATM_OTHER</th>\n",
       "      <th>trx_category_sum_WD_ATM_PARTNER</th>\n",
       "      <th>trx_category_sum_WD_ATM_ROS</th>\n",
       "      <th>target_flag</th>\n",
       "    </tr>\n",
       "    <tr>\n",
       "      <th>cl_id</th>\n",
       "      <th></th>\n",
       "      <th></th>\n",
       "      <th></th>\n",
       "      <th></th>\n",
       "      <th></th>\n",
       "      <th></th>\n",
       "      <th></th>\n",
       "      <th></th>\n",
       "      <th></th>\n",
       "      <th></th>\n",
       "      <th></th>\n",
       "      <th></th>\n",
       "      <th></th>\n",
       "      <th></th>\n",
       "      <th></th>\n",
       "      <th></th>\n",
       "      <th></th>\n",
       "      <th></th>\n",
       "      <th></th>\n",
       "      <th></th>\n",
       "      <th></th>\n",
       "    </tr>\n",
       "  </thead>\n",
       "  <tbody>\n",
       "    <tr>\n",
       "      <th>5</th>\n",
       "      <td>0.0</td>\n",
       "      <td>0.0</td>\n",
       "      <td>0.0</td>\n",
       "      <td>0.0</td>\n",
       "      <td>0.0</td>\n",
       "      <td>0.0</td>\n",
       "      <td>0.0</td>\n",
       "      <td>0.0</td>\n",
       "      <td>0.0</td>\n",
       "      <td>0.0</td>\n",
       "      <td>...</td>\n",
       "      <td>0.0</td>\n",
       "      <td>33878.38</td>\n",
       "      <td>0.0</td>\n",
       "      <td>0.00</td>\n",
       "      <td>130000.0</td>\n",
       "      <td>290500.75</td>\n",
       "      <td>5500.0</td>\n",
       "      <td>6000.0</td>\n",
       "      <td>66500.0</td>\n",
       "      <td>1</td>\n",
       "    </tr>\n",
       "    <tr>\n",
       "      <th>9</th>\n",
       "      <td>0.0</td>\n",
       "      <td>0.0</td>\n",
       "      <td>0.0</td>\n",
       "      <td>0.0</td>\n",
       "      <td>0.0</td>\n",
       "      <td>0.0</td>\n",
       "      <td>0.0</td>\n",
       "      <td>0.0</td>\n",
       "      <td>0.0</td>\n",
       "      <td>0.0</td>\n",
       "      <td>...</td>\n",
       "      <td>296950.0</td>\n",
       "      <td>0.00</td>\n",
       "      <td>0.0</td>\n",
       "      <td>0.00</td>\n",
       "      <td>5000.0</td>\n",
       "      <td>12365.09</td>\n",
       "      <td>0.0</td>\n",
       "      <td>100000.0</td>\n",
       "      <td>435000.0</td>\n",
       "      <td>0</td>\n",
       "    </tr>\n",
       "    <tr>\n",
       "      <th>10</th>\n",
       "      <td>0.0</td>\n",
       "      <td>0.0</td>\n",
       "      <td>0.0</td>\n",
       "      <td>0.0</td>\n",
       "      <td>0.0</td>\n",
       "      <td>0.0</td>\n",
       "      <td>0.0</td>\n",
       "      <td>0.0</td>\n",
       "      <td>0.0</td>\n",
       "      <td>0.0</td>\n",
       "      <td>...</td>\n",
       "      <td>10000.0</td>\n",
       "      <td>21692.90</td>\n",
       "      <td>0.0</td>\n",
       "      <td>37694.98</td>\n",
       "      <td>426300.0</td>\n",
       "      <td>200956.11</td>\n",
       "      <td>0.0</td>\n",
       "      <td>5400.0</td>\n",
       "      <td>422300.0</td>\n",
       "      <td>0</td>\n",
       "    </tr>\n",
       "    <tr>\n",
       "      <th>11</th>\n",
       "      <td>0.0</td>\n",
       "      <td>0.0</td>\n",
       "      <td>0.0</td>\n",
       "      <td>0.0</td>\n",
       "      <td>0.0</td>\n",
       "      <td>0.0</td>\n",
       "      <td>0.0</td>\n",
       "      <td>0.0</td>\n",
       "      <td>0.0</td>\n",
       "      <td>0.0</td>\n",
       "      <td>...</td>\n",
       "      <td>0.0</td>\n",
       "      <td>0.00</td>\n",
       "      <td>0.0</td>\n",
       "      <td>0.00</td>\n",
       "      <td>182000.0</td>\n",
       "      <td>245747.14</td>\n",
       "      <td>0.0</td>\n",
       "      <td>0.0</td>\n",
       "      <td>0.0</td>\n",
       "      <td>0</td>\n",
       "    </tr>\n",
       "    <tr>\n",
       "      <th>14</th>\n",
       "      <td>0.0</td>\n",
       "      <td>0.0</td>\n",
       "      <td>0.0</td>\n",
       "      <td>0.0</td>\n",
       "      <td>0.0</td>\n",
       "      <td>0.0</td>\n",
       "      <td>0.0</td>\n",
       "      <td>0.0</td>\n",
       "      <td>0.0</td>\n",
       "      <td>0.0</td>\n",
       "      <td>...</td>\n",
       "      <td>152700.0</td>\n",
       "      <td>0.00</td>\n",
       "      <td>0.0</td>\n",
       "      <td>0.00</td>\n",
       "      <td>0.0</td>\n",
       "      <td>258990.17</td>\n",
       "      <td>0.0</td>\n",
       "      <td>0.0</td>\n",
       "      <td>37000.0</td>\n",
       "      <td>1</td>\n",
       "    </tr>\n",
       "  </tbody>\n",
       "</table>\n",
       "<p>5 rows × 685 columns</p>\n",
       "</div>"
      ],
      "text/plain": [
       "       MCC_mean_742  MCC_mean_763  MCC_mean_780  MCC_mean_1520  MCC_mean_1711  \\\n",
       "cl_id                                                                           \n",
       "5               0.0           0.0           0.0            0.0            0.0   \n",
       "9               0.0           0.0           0.0            0.0            0.0   \n",
       "10              0.0           0.0           0.0            0.0            0.0   \n",
       "11              0.0           0.0           0.0            0.0            0.0   \n",
       "14              0.0           0.0           0.0            0.0            0.0   \n",
       "\n",
       "       MCC_mean_1731  MCC_mean_1750  MCC_mean_1799  MCC_mean_2741  \\\n",
       "cl_id                                                               \n",
       "5                0.0            0.0            0.0            0.0   \n",
       "9                0.0            0.0            0.0            0.0   \n",
       "10               0.0            0.0            0.0            0.0   \n",
       "11               0.0            0.0            0.0            0.0   \n",
       "14               0.0            0.0            0.0            0.0   \n",
       "\n",
       "       MCC_mean_2842  ...  trx_category_sum_C2C_IN  trx_category_sum_C2C_OUT  \\\n",
       "cl_id                 ...                                                      \n",
       "5                0.0  ...                      0.0                  33878.38   \n",
       "9                0.0  ...                 296950.0                      0.00   \n",
       "10               0.0  ...                  10000.0                  21692.90   \n",
       "11               0.0  ...                      0.0                      0.00   \n",
       "14               0.0  ...                 152700.0                      0.00   \n",
       "\n",
       "       trx_category_sum_CASH_ADV  trx_category_sum_CAT  \\\n",
       "cl_id                                                    \n",
       "5                            0.0                  0.00   \n",
       "9                            0.0                  0.00   \n",
       "10                           0.0              37694.98   \n",
       "11                           0.0                  0.00   \n",
       "14                           0.0                  0.00   \n",
       "\n",
       "       trx_category_sum_DEPOSIT  trx_category_sum_POS  \\\n",
       "cl_id                                                   \n",
       "5                      130000.0             290500.75   \n",
       "9                        5000.0              12365.09   \n",
       "10                     426300.0             200956.11   \n",
       "11                     182000.0             245747.14   \n",
       "14                          0.0             258990.17   \n",
       "\n",
       "       trx_category_sum_WD_ATM_OTHER  trx_category_sum_WD_ATM_PARTNER  \\\n",
       "cl_id                                                                   \n",
       "5                             5500.0                           6000.0   \n",
       "9                                0.0                         100000.0   \n",
       "10                               0.0                           5400.0   \n",
       "11                               0.0                              0.0   \n",
       "14                               0.0                              0.0   \n",
       "\n",
       "       trx_category_sum_WD_ATM_ROS  target_flag  \n",
       "cl_id                                            \n",
       "5                          66500.0            1  \n",
       "9                         435000.0            0  \n",
       "10                        422300.0            0  \n",
       "11                             0.0            0  \n",
       "14                         37000.0            1  \n",
       "\n",
       "[5 rows x 685 columns]"
      ]
     },
     "execution_count": 22,
     "metadata": {},
     "output_type": "execute_result"
    }
   ],
   "source": [
    "df_train.head()"
   ]
  },
  {
   "cell_type": "code",
   "execution_count": 23,
   "metadata": {},
   "outputs": [
    {
     "data": {
      "text/plain": [
       "(4000, 685)"
      ]
     },
     "execution_count": 23,
     "metadata": {},
     "output_type": "execute_result"
    }
   ],
   "source": [
    "df_train.shape"
   ]
  },
  {
   "cell_type": "code",
   "execution_count": 24,
   "metadata": {},
   "outputs": [],
   "source": [
    "from sklearn.linear_model import LogisticRegression"
   ]
  },
  {
   "cell_type": "code",
   "execution_count": 25,
   "metadata": {},
   "outputs": [],
   "source": [
    "clf = LogisticRegression()\n",
    "X_train = df_train.drop(['target_flag'], axis=1)\n",
    "y_train = df_train['target_flag']"
   ]
  },
  {
   "cell_type": "code",
   "execution_count": 26,
   "metadata": {},
   "outputs": [
    {
     "name": "stderr",
     "output_type": "stream",
     "text": [
      "/Users/maxim/anaconda3/lib/python3.6/site-packages/sklearn/linear_model/logistic.py:433: FutureWarning: Default solver will be changed to 'lbfgs' in 0.22. Specify a solver to silence this warning.\n",
      "  FutureWarning)\n",
      "/Users/maxim/anaconda3/lib/python3.6/site-packages/sklearn/svm/base.py:922: ConvergenceWarning: Liblinear failed to converge, increase the number of iterations.\n",
      "  \"the number of iterations.\", ConvergenceWarning)\n"
     ]
    },
    {
     "data": {
      "text/plain": [
       "LogisticRegression(C=1.0, class_weight=None, dual=False, fit_intercept=True,\n",
       "          intercept_scaling=1, max_iter=100, multi_class='warn',\n",
       "          n_jobs=None, penalty='l2', random_state=None, solver='warn',\n",
       "          tol=0.0001, verbose=0, warm_start=False)"
      ]
     },
     "execution_count": 26,
     "metadata": {},
     "output_type": "execute_result"
    }
   ],
   "source": [
    "clf.fit(X=X_train, y=y_train)"
   ]
  },
  {
   "cell_type": "code",
   "execution_count": 27,
   "metadata": {},
   "outputs": [],
   "source": [
    "from sklearn.metrics import roc_auc_score, roc_curve"
   ]
  },
  {
   "cell_type": "code",
   "execution_count": 28,
   "metadata": {},
   "outputs": [
    {
     "name": "stdout",
     "output_type": "stream",
     "text": [
      "Train:  0.77\n"
     ]
    }
   ],
   "source": [
    "y_train_predict = clf.predict_proba(X_train)[:, 1]\n",
    "\n",
    "roc_auc_train = np.round(roc_auc_score(y_train, y_train_predict), 2)\n",
    "\n",
    "print(\"Train: \", roc_auc_train)"
   ]
  },
  {
   "cell_type": "code",
   "execution_count": 29,
   "metadata": {},
   "outputs": [
    {
     "data": {
      "image/png": "[encoded data removed]",
      "text/plain": [
       "<Figure size 720x720 with 1 Axes>"
      ]
     },
     "metadata": {
      "needs_background": "light"
     },
     "output_type": "display_data"
    }
   ],
   "source": [
    "import matplotlib\n",
    "fpr_train, tpr_train, thresholds_train = roc_curve(y_train, y_train_predict)\n",
    "\n",
    "matplotlib.rcParams['figure.figsize'] = (10.0, 10.0)\n",
    "plt.plot(fpr_train, tpr_train, label='Train ROC AUC {0}'.format(roc_auc_train))\n",
    "plt.plot([0, 1], [0, 1], '--', color=(0.6, 0.6, 0.6))\n",
    "plt.xlim([0, 1])\n",
    "plt.ylim([0, 1])\n",
    "plt.xlabel('False Positive Rate')\n",
    "plt.ylabel('True Positive Rate')\n",
    "plt.title('Logistic Regression Classifier', size=16)\n",
    "plt.legend(loc='lower right')\n",
    "plt.show()"
   ]
  },
  {
   "cell_type": "markdown",
   "metadata": {},
   "source": [
    "## Пример загрузки описаний MCC кодов"
   ]
  },
  {
   "cell_type": "code",
   "execution_count": 30,
   "metadata": {},
   "outputs": [],
   "source": [
    "from bs4 import BeautifulSoup as bs\n",
    "# import requests\n",
    "import urllib\n",
    "from urllib.request import urlopen, Request"
   ]
  },
  {
   "cell_type": "code",
   "execution_count": 31,
   "metadata": {},
   "outputs": [],
   "source": [
    "headers = {\n",
    "    'User-Agent': 'Mozilla/5.0 (Windows NT 6.1) AppleWebKit/537.36 (KHTML, like Gecko) Chrome/41.0.2228.0 Safari/537.3'\n",
    "}\n",
    "reg_url = 'https://mcc-codes.ru/code'\n",
    "req = Request(url=reg_url, headers=headers)"
   ]
  },
  {
   "cell_type": "code",
   "execution_count": 32,
   "metadata": {},
   "outputs": [],
   "source": [
    "check = bs(urlopen(req).read())"
   ]
  },
  {
   "cell_type": "code",
   "execution_count": 33,
   "metadata": {},
   "outputs": [],
   "source": [
    "#check.find('body')"
   ]
  },
  {
   "cell_type": "code",
   "execution_count": null,
   "metadata": {},
   "outputs": [],
   "source": []
  },
  {
   "cell_type": "code",
   "execution_count": 34,
   "metadata": {},
   "outputs": [],
   "source": [
    "list_of_mcc_tags = check.find_all('tr')[1:]"
   ]
  },
  {
   "cell_type": "code",
   "execution_count": 35,
   "metadata": {},
   "outputs": [
    {
     "data": {
      "text/plain": [
       "['', '0742', 'Ветеринарные услуги', 'Контрактные услуги', '31.01.18', '']"
      ]
     },
     "execution_count": 35,
     "metadata": {},
     "output_type": "execute_result"
    }
   ],
   "source": [
    "list_of_mcc_tags[0].text.split('\\n')"
   ]
  },
  {
   "cell_type": "code",
   "execution_count": 36,
   "metadata": {},
   "outputs": [],
   "source": [
    "mcc_names_list = list(\n",
    "    map(\n",
    "        lambda x: (x.text.split('\\n')[1], x.text.split('\\n')[2]), list_of_mcc_tags\n",
    "    )\n",
    ")"
   ]
  },
  {
   "cell_type": "code",
   "execution_count": 37,
   "metadata": {},
   "outputs": [
    {
     "data": {
      "text/html": [
       "<div>\n",
       "<style scoped>\n",
       "    .dataframe tbody tr th:only-of-type {\n",
       "        vertical-align: middle;\n",
       "    }\n",
       "\n",
       "    .dataframe tbody tr th {\n",
       "        vertical-align: top;\n",
       "    }\n",
       "\n",
       "    .dataframe thead th {\n",
       "        text-align: right;\n",
       "    }\n",
       "</style>\n",
       "<table border=\"1\" class=\"dataframe\">\n",
       "  <thead>\n",
       "    <tr style=\"text-align: right;\">\n",
       "      <th></th>\n",
       "      <th>0</th>\n",
       "      <th>1</th>\n",
       "    </tr>\n",
       "  </thead>\n",
       "  <tbody>\n",
       "    <tr>\n",
       "      <th>0</th>\n",
       "      <td>0742</td>\n",
       "      <td>Ветеринарные услуги</td>\n",
       "    </tr>\n",
       "    <tr>\n",
       "      <th>1</th>\n",
       "      <td>0763</td>\n",
       "      <td>Сельскохозяйственные кооперативы</td>\n",
       "    </tr>\n",
       "    <tr>\n",
       "      <th>2</th>\n",
       "      <td>0780</td>\n",
       "      <td>Услуги садоводства и ландшафтного дизайна</td>\n",
       "    </tr>\n",
       "    <tr>\n",
       "      <th>3</th>\n",
       "      <td>1520</td>\n",
       "      <td>Генеральные подрядчики – жилое и коммерческое ...</td>\n",
       "    </tr>\n",
       "    <tr>\n",
       "      <th>4</th>\n",
       "      <td>1711</td>\n",
       "      <td>Генеральные подрядчики по вентиляции, теплосна...</td>\n",
       "    </tr>\n",
       "  </tbody>\n",
       "</table>\n",
       "</div>"
      ],
      "text/plain": [
       "      0                                                  1\n",
       "0  0742                                Ветеринарные услуги\n",
       "1  0763                   Сельскохозяйственные кооперативы\n",
       "2  0780          Услуги садоводства и ландшафтного дизайна\n",
       "3  1520  Генеральные подрядчики – жилое и коммерческое ...\n",
       "4  1711  Генеральные подрядчики по вентиляции, теплосна..."
      ]
     },
     "execution_count": 37,
     "metadata": {},
     "output_type": "execute_result"
    }
   ],
   "source": [
    "mcc_title = pd.DataFrame(mcc_names_list)\n",
    "mcc_title.head()"
   ]
  },
  {
   "cell_type": "code",
   "execution_count": 38,
   "metadata": {},
   "outputs": [
    {
     "data": {
      "text/html": [
       "<div>\n",
       "<style scoped>\n",
       "    .dataframe tbody tr th:only-of-type {\n",
       "        vertical-align: middle;\n",
       "    }\n",
       "\n",
       "    .dataframe tbody tr th {\n",
       "        vertical-align: top;\n",
       "    }\n",
       "\n",
       "    .dataframe thead th {\n",
       "        text-align: right;\n",
       "    }\n",
       "</style>\n",
       "<table border=\"1\" class=\"dataframe\">\n",
       "  <thead>\n",
       "    <tr style=\"text-align: right;\">\n",
       "      <th></th>\n",
       "      <th>MCC</th>\n",
       "      <th>Name</th>\n",
       "    </tr>\n",
       "  </thead>\n",
       "  <tbody>\n",
       "    <tr>\n",
       "      <th>0</th>\n",
       "      <td>0742</td>\n",
       "      <td>Ветеринарные услуги</td>\n",
       "    </tr>\n",
       "  </tbody>\n",
       "</table>\n",
       "</div>"
      ],
      "text/plain": [
       "    MCC                 Name\n",
       "0  0742  Ветеринарные услуги"
      ]
     },
     "execution_count": 38,
     "metadata": {},
     "output_type": "execute_result"
    }
   ],
   "source": [
    "mcc_title_correct = mcc_title.rename(columns={0:'MCC', 1: 'Name'})\n",
    "mcc_title_correct.head(1)"
   ]
  },
  {
   "cell_type": "markdown",
   "metadata": {},
   "source": [
    "## Выполнение домашнего задания"
   ]
  },
  {
   "cell_type": "markdown",
   "metadata": {},
   "source": [
    "*Обязательная часть: провести первичный анализ данных - посмотреть распределения признаков, выделить самые популярные MCC, помотреть активность клиентов по дням недели/времени, какие категории транзакции (trx_category) наиболее популярны и т.д. Получить инсайты, которые в дальнейшем помогут вам правильно подготовить фичи*"
   ]
  },
  {
   "cell_type": "code",
   "execution_count": 39,
   "metadata": {},
   "outputs": [
    {
     "data": {
      "text/html": [
       "<div>\n",
       "<style scoped>\n",
       "    .dataframe tbody tr th:only-of-type {\n",
       "        vertical-align: middle;\n",
       "    }\n",
       "\n",
       "    .dataframe tbody tr th {\n",
       "        vertical-align: top;\n",
       "    }\n",
       "\n",
       "    .dataframe thead th {\n",
       "        text-align: right;\n",
       "    }\n",
       "</style>\n",
       "<table border=\"1\" class=\"dataframe\">\n",
       "  <thead>\n",
       "    <tr style=\"text-align: right;\">\n",
       "      <th></th>\n",
       "      <th>PERIOD</th>\n",
       "      <th>cl_id</th>\n",
       "      <th>MCC</th>\n",
       "      <th>channel_type</th>\n",
       "      <th>currency</th>\n",
       "      <th>TRDATETIME</th>\n",
       "      <th>amount</th>\n",
       "      <th>trx_category</th>\n",
       "      <th>target_flag</th>\n",
       "      <th>target_sum</th>\n",
       "    </tr>\n",
       "  </thead>\n",
       "  <tbody>\n",
       "    <tr>\n",
       "      <th>109</th>\n",
       "      <td>01/06/2017</td>\n",
       "      <td>5</td>\n",
       "      <td>5944</td>\n",
       "      <td>NaN</td>\n",
       "      <td>810</td>\n",
       "      <td>18JUN17:00:00:00</td>\n",
       "      <td>3719.00</td>\n",
       "      <td>POS</td>\n",
       "      <td>1</td>\n",
       "      <td>326211.75</td>\n",
       "    </tr>\n",
       "    <tr>\n",
       "      <th>110</th>\n",
       "      <td>01/06/2017</td>\n",
       "      <td>5</td>\n",
       "      <td>6012</td>\n",
       "      <td>NaN</td>\n",
       "      <td>810</td>\n",
       "      <td>14JUN17:00:00:00</td>\n",
       "      <td>10000.00</td>\n",
       "      <td>C2C_OUT</td>\n",
       "      <td>1</td>\n",
       "      <td>326211.75</td>\n",
       "    </tr>\n",
       "    <tr>\n",
       "      <th>111</th>\n",
       "      <td>01/04/2017</td>\n",
       "      <td>5</td>\n",
       "      <td>5621</td>\n",
       "      <td>NaN</td>\n",
       "      <td>810</td>\n",
       "      <td>06APR17:00:00:00</td>\n",
       "      <td>1399.00</td>\n",
       "      <td>POS</td>\n",
       "      <td>1</td>\n",
       "      <td>326211.75</td>\n",
       "    </tr>\n",
       "    <tr>\n",
       "      <th>112</th>\n",
       "      <td>01/06/2017</td>\n",
       "      <td>5</td>\n",
       "      <td>5691</td>\n",
       "      <td>NaN</td>\n",
       "      <td>810</td>\n",
       "      <td>17JUN17:00:00:00</td>\n",
       "      <td>3190.00</td>\n",
       "      <td>POS</td>\n",
       "      <td>1</td>\n",
       "      <td>326211.75</td>\n",
       "    </tr>\n",
       "    <tr>\n",
       "      <th>113</th>\n",
       "      <td>01/04/2017</td>\n",
       "      <td>5</td>\n",
       "      <td>5499</td>\n",
       "      <td>NaN</td>\n",
       "      <td>810</td>\n",
       "      <td>25APR17:00:00:00</td>\n",
       "      <td>1387.61</td>\n",
       "      <td>POS</td>\n",
       "      <td>1</td>\n",
       "      <td>326211.75</td>\n",
       "    </tr>\n",
       "  </tbody>\n",
       "</table>\n",
       "</div>"
      ],
      "text/plain": [
       "         PERIOD  cl_id   MCC channel_type  currency        TRDATETIME  \\\n",
       "109  01/06/2017      5  5944          NaN       810  18JUN17:00:00:00   \n",
       "110  01/06/2017      5  6012          NaN       810  14JUN17:00:00:00   \n",
       "111  01/04/2017      5  5621          NaN       810  06APR17:00:00:00   \n",
       "112  01/06/2017      5  5691          NaN       810  17JUN17:00:00:00   \n",
       "113  01/04/2017      5  5499          NaN       810  25APR17:00:00:00   \n",
       "\n",
       "       amount trx_category  target_flag  target_sum  \n",
       "109   3719.00          POS            1   326211.75  \n",
       "110  10000.00      C2C_OUT            1   326211.75  \n",
       "111   1399.00          POS            1   326211.75  \n",
       "112   3190.00          POS            1   326211.75  \n",
       "113   1387.61          POS            1   326211.75  "
      ]
     },
     "execution_count": 39,
     "metadata": {},
     "output_type": "execute_result"
    }
   ],
   "source": [
    "transactions_train.head()"
   ]
  },
  {
   "cell_type": "code",
   "execution_count": 40,
   "metadata": {},
   "outputs": [
    {
     "data": {
      "text/plain": [
       "810    386229\n",
       "978      4495\n",
       "840      1443\n",
       "Name: currency, dtype: int64"
      ]
     },
     "execution_count": 40,
     "metadata": {},
     "output_type": "execute_result"
    }
   ],
   "source": [
    "# Посмотрим какая валюта встречается наиболее часто\n",
    "transactions_train['currency'].value_counts().head(3)\n",
    "# 810 - RUB\n",
    "# 978 - EU\n",
    "# 840 - USD"
   ]
  },
  {
   "cell_type": "code",
   "execution_count": 41,
   "metadata": {},
   "outputs": [],
   "source": [
    "# посмотрим процентное содержание этих валют"
   ]
  },
  {
   "cell_type": "code",
   "execution_count": 42,
   "metadata": {},
   "outputs": [
    {
     "name": "stdout",
     "output_type": "stream",
     "text": [
      "Доля RUB в процентах = 97.46,Доля EU в процентах = 1.13,Доля USD в процентах = 0.36\n"
     ]
    }
   ],
   "source": [
    "rub = round(transactions_train['currency'][transactions_train['currency'] == 810].count()\n",
    "          /len(transactions_train['currency'])*100,2)\n",
    "eu = round(transactions_train['currency'][transactions_train['currency'] == 978].count()\n",
    "          /len(transactions_train['currency'])*100,2)\n",
    "usd = round(transactions_train['currency'][transactions_train['currency'] == 840].count()\n",
    "          /len(transactions_train['currency'])*100,2)\n",
    "print ('Доля RUB в процентах = {0},Доля EU в процентах = {1},Доля USD в процентах = {2}'.format(rub,eu,usd))"
   ]
  },
  {
   "cell_type": "code",
   "execution_count": 43,
   "metadata": {},
   "outputs": [],
   "source": [
    "# Посмотрим общую сумму/среднее транзакций по этим валютам для пользователей"
   ]
  },
  {
   "cell_type": "code",
   "execution_count": 89,
   "metadata": {},
   "outputs": [],
   "source": [
    "top_3_currency = transactions_train[(transactions_train['currency'] == 810) | (transactions_train['currency'] == 978) \\\n",
    "| (transactions_train['currency'] == 840)]\n",
    "#top_3_currency_df = top_3_currency[['cl_id','currency','amount']].groupby(['cl_id','currency']).sum()\n",
    "#top_3_currency_df.unstack(fill_value=0).head(5)"
   ]
  },
  {
   "cell_type": "code",
   "execution_count": 45,
   "metadata": {},
   "outputs": [],
   "source": [
    "df_train_currency = pd.merge(\n",
    "    get_aggregated_df(top_3_currency, agg_type='mean', col_to_groupby='currency'),\n",
    "    get_aggregated_df(top_3_currency, agg_type='sum', col_to_groupby='currency'),\n",
    "    left_index=True,\n",
    "    right_index=True,\n",
    ")"
   ]
  },
  {
   "cell_type": "code",
   "execution_count": 46,
   "metadata": {},
   "outputs": [],
   "source": [
    "# объединим df_train_currency с target_flag\n",
    "df_train_currency = pd.merge(\n",
    "    df_train_currency,\n",
    "    df_targets,\n",
    "    left_index=True,\n",
    "    right_index=True,\n",
    "    how='inner'\n",
    ")"
   ]
  },
  {
   "cell_type": "code",
   "execution_count": 47,
   "metadata": {},
   "outputs": [
    {
     "data": {
      "text/plain": [
       "type1    241382\n",
       "type2    141588\n",
       "type5      4295\n",
       "type4      3924\n",
       "type3      2611\n",
       "NaN        2507\n",
       "Name: channel_type, dtype: int64"
      ]
     },
     "execution_count": 47,
     "metadata": {},
     "output_type": "execute_result"
    }
   ],
   "source": [
    "# Посмотрим channel_type\n",
    "transactions_train['channel_type'].value_counts(dropna = False)"
   ]
  },
  {
   "cell_type": "code",
   "execution_count": 48,
   "metadata": {},
   "outputs": [],
   "source": [
    "# вместо NaN будем использовать unknown для удобства\n",
    "transactions_train['channel_type'].fillna('unknown', inplace=True)"
   ]
  },
  {
   "cell_type": "code",
   "execution_count": 49,
   "metadata": {},
   "outputs": [
    {
     "data": {
      "text/plain": [
       "<matplotlib.axes._subplots.AxesSubplot at 0x1a2427c160>"
      ]
     },
     "execution_count": 49,
     "metadata": {},
     "output_type": "execute_result"
    },
    {
     "data": {
      "image/png": "[encoded data removed]",
      "text/plain": [
       "<Figure size 720x720 with 1 Axes>"
      ]
     },
     "metadata": {
      "needs_background": "light"
     },
     "output_type": "display_data"
    }
   ],
   "source": [
    "# посмотрим сумму трат в зависимости от уникальных каналов привлечения клиента\n",
    "channel_amount = transactions_train[['channel_type','amount']].groupby('channel_type').sum()\n",
    "channel_amount.plot(kind = 'bar')\n",
    "# Существенное отличие type1, type2 по кол-ву трат в отличие от других каналов "
   ]
  },
  {
   "cell_type": "code",
   "execution_count": 50,
   "metadata": {},
   "outputs": [
    {
     "data": {
      "text/plain": [
       "POS               336699\n",
       "DEPOSIT            17270\n",
       "WD_ATM_ROS         15446\n",
       "WD_ATM_PARTNER      7963\n",
       "WD_ATM_OTHER        5724\n",
       "C2C_IN              5624\n",
       "C2C_OUT             4523\n",
       "BACK_TRX            2123\n",
       "CAT                  911\n",
       "CASH_ADV              24\n",
       "Name: trx_category, dtype: int64"
      ]
     },
     "execution_count": 50,
     "metadata": {},
     "output_type": "execute_result"
    }
   ],
   "source": [
    "# посмотрим на категории trx_category\n",
    "transactions_train['trx_category'].value_counts()"
   ]
  },
  {
   "cell_type": "code",
   "execution_count": 51,
   "metadata": {},
   "outputs": [
    {
     "data": {
      "text/plain": [
       "<matplotlib.axes._subplots.AxesSubplot at 0x1a24d46c18>"
      ]
     },
     "execution_count": 51,
     "metadata": {},
     "output_type": "execute_result"
    },
    {
     "data": {
      "image/png": "[encoded data removed]",
      "text/plain": [
       "<Figure size 864x576 with 1 Axes>"
      ]
     },
     "metadata": {
      "needs_background": "light"
     },
     "output_type": "display_data"
    }
   ],
   "source": [
    "# бОльшая часть приходится на POS. посмотрим на график операций \n",
    "plt.figure(figsize = (12,8))\n",
    "sns.countplot(x = 'trx_category', hue='target_flag', data=transactions_train, palette=\"Set1\")"
   ]
  },
  {
   "cell_type": "code",
   "execution_count": 52,
   "metadata": {},
   "outputs": [
    {
     "data": {
      "text/plain": [
       "<matplotlib.axes._subplots.AxesSubplot at 0x1a24287390>"
      ]
     },
     "execution_count": 52,
     "metadata": {},
     "output_type": "execute_result"
    },
    {
     "data": {
      "image/png": "[encoded data removed]",
      "text/plain": [
       "<Figure size 864x576 with 1 Axes>"
      ]
     },
     "metadata": {
      "needs_background": "light"
     },
     "output_type": "display_data"
    }
   ],
   "source": [
    "# Посмотрим на channel_type и target_flag вместе\n",
    "plt.figure(figsize = (12,8))\n",
    "sns.countplot(x = 'channel_type', hue='target_flag', data=transactions_train, palette=\"Set1\")\n",
    "# количесвто людей ,оставшихся после льготного периода ,сущесвтвенно больше в type_2"
   ]
  },
  {
   "cell_type": "code",
   "execution_count": 53,
   "metadata": {},
   "outputs": [
    {
     "data": {
      "image/png": "[encoded data removed]",
      "text/plain": [
       "<Figure size 720x720 with 2 Axes>"
      ]
     },
     "metadata": {
      "needs_background": "light"
     },
     "output_type": "display_data"
    }
   ],
   "source": [
    "# Посмотрим на коррелицию признаков\n",
    "corr = transactions_train.corr()\n",
    "sns.heatmap(corr, annot=True, fmt=\".1f\", \n",
    "            linewidths=0.5);\n",
    "# корреляции отсутствуют"
   ]
  },
  {
   "cell_type": "code",
   "execution_count": 54,
   "metadata": {},
   "outputs": [
    {
     "data": {
      "text/plain": [
       "[5411, 6011, 5814, 5812, 5499, 5541, 5912, 5999, 6012, 5921]"
      ]
     },
     "execution_count": 54,
     "metadata": {},
     "output_type": "execute_result"
    }
   ],
   "source": [
    "# выделим самые популярные MCC (top 10)\n",
    "transactions_train['MCC'].value_counts().head(10).index.tolist()"
   ]
  },
  {
   "cell_type": "code",
   "execution_count": 55,
   "metadata": {},
   "outputs": [],
   "source": [
    "mcc_title_correct['MCC'] = mcc_title_correct.MCC.astype('int64')"
   ]
  },
  {
   "cell_type": "code",
   "execution_count": 56,
   "metadata": {},
   "outputs": [],
   "source": [
    "mcc_name_df = transactions_train.merge(mcc_title_correct,how = 'left',on='MCC')"
   ]
  },
  {
   "cell_type": "code",
   "execution_count": 57,
   "metadata": {},
   "outputs": [
    {
     "data": {
      "text/html": [
       "<div>\n",
       "<style scoped>\n",
       "    .dataframe tbody tr th:only-of-type {\n",
       "        vertical-align: middle;\n",
       "    }\n",
       "\n",
       "    .dataframe tbody tr th {\n",
       "        vertical-align: top;\n",
       "    }\n",
       "\n",
       "    .dataframe thead th {\n",
       "        text-align: right;\n",
       "    }\n",
       "</style>\n",
       "<table border=\"1\" class=\"dataframe\">\n",
       "  <thead>\n",
       "    <tr style=\"text-align: right;\">\n",
       "      <th></th>\n",
       "      <th>Name</th>\n",
       "    </tr>\n",
       "  </thead>\n",
       "  <tbody>\n",
       "    <tr>\n",
       "      <th>0</th>\n",
       "      <td>Бакалейные магазины, супермаркеты</td>\n",
       "    </tr>\n",
       "    <tr>\n",
       "      <th>1</th>\n",
       "      <td>Финансовые учреждения – снятие наличности авто...</td>\n",
       "    </tr>\n",
       "    <tr>\n",
       "      <th>2</th>\n",
       "      <td>Фастфуд</td>\n",
       "    </tr>\n",
       "    <tr>\n",
       "      <th>3</th>\n",
       "      <td>Места общественного питания, рестораны</td>\n",
       "    </tr>\n",
       "    <tr>\n",
       "      <th>4</th>\n",
       "      <td>Различные продовольственные магазины - нигде б...</td>\n",
       "    </tr>\n",
       "    <tr>\n",
       "      <th>5</th>\n",
       "      <td>Станции техобслуживания, с дополнительными усл...</td>\n",
       "    </tr>\n",
       "    <tr>\n",
       "      <th>6</th>\n",
       "      <td>Аптеки</td>\n",
       "    </tr>\n",
       "    <tr>\n",
       "      <th>7</th>\n",
       "      <td>Различные магазины и специальные розничные маг...</td>\n",
       "    </tr>\n",
       "    <tr>\n",
       "      <th>8</th>\n",
       "      <td>Финансовые учреждения – торговля и услуги</td>\n",
       "    </tr>\n",
       "    <tr>\n",
       "      <th>9</th>\n",
       "      <td>Магазины с продажей спиртных напитков навынос</td>\n",
       "    </tr>\n",
       "  </tbody>\n",
       "</table>\n",
       "</div>"
      ],
      "text/plain": [
       "                                                Name\n",
       "0                  Бакалейные магазины, супермаркеты\n",
       "1  Финансовые учреждения – снятие наличности авто...\n",
       "2                                            Фастфуд\n",
       "3             Места общественного питания, рестораны\n",
       "4  Различные продовольственные магазины - нигде б...\n",
       "5  Станции техобслуживания, с дополнительными усл...\n",
       "6                                             Аптеки\n",
       "7  Различные магазины и специальные розничные маг...\n",
       "8          Финансовые учреждения – торговля и услуги\n",
       "9      Магазины с продажей спиртных напитков навынос"
      ]
     },
     "execution_count": 57,
     "metadata": {},
     "output_type": "execute_result"
    }
   ],
   "source": [
    "# MCC (top 10) с названием\n",
    "mcc_name_df[['MCC','Name','cl_id']].groupby('Name').count().sort_values('MCC',ascending = False).\\\n",
    "head(10).reset_index()[['Name']]"
   ]
  },
  {
   "cell_type": "code",
   "execution_count": 58,
   "metadata": {},
   "outputs": [
    {
     "data": {
      "text/html": [
       "<div>\n",
       "<style scoped>\n",
       "    .dataframe tbody tr th:only-of-type {\n",
       "        vertical-align: middle;\n",
       "    }\n",
       "\n",
       "    .dataframe tbody tr th {\n",
       "        vertical-align: top;\n",
       "    }\n",
       "\n",
       "    .dataframe thead th {\n",
       "        text-align: right;\n",
       "    }\n",
       "</style>\n",
       "<table border=\"1\" class=\"dataframe\">\n",
       "  <thead>\n",
       "    <tr style=\"text-align: right;\">\n",
       "      <th></th>\n",
       "      <th></th>\n",
       "      <th>amount</th>\n",
       "    </tr>\n",
       "    <tr>\n",
       "      <th>MCC</th>\n",
       "      <th>Name</th>\n",
       "      <th></th>\n",
       "    </tr>\n",
       "  </thead>\n",
       "  <tbody>\n",
       "    <tr>\n",
       "      <th>6011</th>\n",
       "      <th>Финансовые учреждения – снятие наличности автоматически</th>\n",
       "      <td>53.994978</td>\n",
       "    </tr>\n",
       "    <tr>\n",
       "      <th>6012</th>\n",
       "      <th>Финансовые учреждения – торговля и услуги</th>\n",
       "      <td>6.843822</td>\n",
       "    </tr>\n",
       "    <tr>\n",
       "      <th>5411</th>\n",
       "      <th>Бакалейные магазины, супермаркеты</th>\n",
       "      <td>4.712172</td>\n",
       "    </tr>\n",
       "    <tr>\n",
       "      <th>4829</th>\n",
       "      <th>Денежные переводы</th>\n",
       "      <td>3.109010</td>\n",
       "    </tr>\n",
       "    <tr>\n",
       "      <th>7011</th>\n",
       "      <th>Отели и мотели - нигде более не классифицированные</th>\n",
       "      <td>2.413847</td>\n",
       "    </tr>\n",
       "  </tbody>\n",
       "</table>\n",
       "</div>"
      ],
      "text/plain": [
       "                                                            amount\n",
       "MCC  Name                                                         \n",
       "6011 Финансовые учреждения – снятие наличности автом...  53.994978\n",
       "6012 Финансовые учреждения – торговля и услуги            6.843822\n",
       "5411 Бакалейные магазины, супермаркеты                    4.712172\n",
       "4829 Денежные переводы                                    3.109010\n",
       "7011 Отели и мотели - нигде более не классифицированные   2.413847"
      ]
     },
     "execution_count": 58,
     "metadata": {},
     "output_type": "execute_result"
    }
   ],
   "source": [
    "# Посмотрим на долевое распределение МСС от суммы amount процентах\n",
    "(mcc_name_df[['MCC', 'Name','amount']].groupby(['MCC','Name']).sum()\n",
    " /mcc_name_df['amount'].sum()*100\n",
    ").sort_values('amount', ascending=False).head()\n",
    "# Снятие денег - фаворит"
   ]
  },
  {
   "cell_type": "markdown",
   "metadata": {},
   "source": [
    "*Активность клиентов по дням недели/времени*"
   ]
  },
  {
   "cell_type": "code",
   "execution_count": 59,
   "metadata": {},
   "outputs": [
    {
     "data": {
      "text/html": [
       "<div>\n",
       "<style scoped>\n",
       "    .dataframe tbody tr th:only-of-type {\n",
       "        vertical-align: middle;\n",
       "    }\n",
       "\n",
       "    .dataframe tbody tr th {\n",
       "        vertical-align: top;\n",
       "    }\n",
       "\n",
       "    .dataframe thead th {\n",
       "        text-align: right;\n",
       "    }\n",
       "</style>\n",
       "<table border=\"1\" class=\"dataframe\">\n",
       "  <thead>\n",
       "    <tr style=\"text-align: right;\">\n",
       "      <th>day_of_transaction</th>\n",
       "      <th>cl_id</th>\n",
       "      <th>day_0</th>\n",
       "      <th>day_1</th>\n",
       "      <th>day_2</th>\n",
       "      <th>day_3</th>\n",
       "      <th>day_4</th>\n",
       "      <th>day_5</th>\n",
       "      <th>day_6</th>\n",
       "    </tr>\n",
       "  </thead>\n",
       "  <tbody>\n",
       "    <tr>\n",
       "      <th>0</th>\n",
       "      <td>5</td>\n",
       "      <td>15.0</td>\n",
       "      <td>19.0</td>\n",
       "      <td>19.0</td>\n",
       "      <td>15.0</td>\n",
       "      <td>25.0</td>\n",
       "      <td>24.0</td>\n",
       "      <td>25.0</td>\n",
       "    </tr>\n",
       "    <tr>\n",
       "      <th>1</th>\n",
       "      <td>9</td>\n",
       "      <td>5.0</td>\n",
       "      <td>8.0</td>\n",
       "      <td>7.0</td>\n",
       "      <td>5.0</td>\n",
       "      <td>6.0</td>\n",
       "      <td>4.0</td>\n",
       "      <td>4.0</td>\n",
       "    </tr>\n",
       "    <tr>\n",
       "      <th>2</th>\n",
       "      <td>10</td>\n",
       "      <td>74.0</td>\n",
       "      <td>35.0</td>\n",
       "      <td>62.0</td>\n",
       "      <td>68.0</td>\n",
       "      <td>65.0</td>\n",
       "      <td>57.0</td>\n",
       "      <td>102.0</td>\n",
       "    </tr>\n",
       "    <tr>\n",
       "      <th>3</th>\n",
       "      <td>11</td>\n",
       "      <td>28.0</td>\n",
       "      <td>29.0</td>\n",
       "      <td>30.0</td>\n",
       "      <td>25.0</td>\n",
       "      <td>40.0</td>\n",
       "      <td>40.0</td>\n",
       "      <td>25.0</td>\n",
       "    </tr>\n",
       "    <tr>\n",
       "      <th>4</th>\n",
       "      <td>14</td>\n",
       "      <td>14.0</td>\n",
       "      <td>22.0</td>\n",
       "      <td>12.0</td>\n",
       "      <td>15.0</td>\n",
       "      <td>30.0</td>\n",
       "      <td>39.0</td>\n",
       "      <td>4.0</td>\n",
       "    </tr>\n",
       "  </tbody>\n",
       "</table>\n",
       "</div>"
      ],
      "text/plain": [
       "day_of_transaction  cl_id  day_0  day_1  day_2  day_3  day_4  day_5  day_6\n",
       "0                       5   15.0   19.0   19.0   15.0   25.0   24.0   25.0\n",
       "1                       9    5.0    8.0    7.0    5.0    6.0    4.0    4.0\n",
       "2                      10   74.0   35.0   62.0   68.0   65.0   57.0  102.0\n",
       "3                      11   28.0   29.0   30.0   25.0   40.0   40.0   25.0\n",
       "4                      14   14.0   22.0   12.0   15.0   30.0   39.0    4.0"
      ]
     },
     "execution_count": 59,
     "metadata": {},
     "output_type": "execute_result"
    }
   ],
   "source": [
    "transaction_by_day_count(transactions_train).head()"
   ]
  },
  {
   "cell_type": "code",
   "execution_count": 60,
   "metadata": {},
   "outputs": [],
   "source": [
    "by_day = transaction_by_day_count(transactions_train)"
   ]
  },
  {
   "cell_type": "code",
   "execution_count": 61,
   "metadata": {},
   "outputs": [],
   "source": [
    "by_day_count = by_day.sum().drop('cl_id').sort_values(ascending = False)"
   ]
  },
  {
   "cell_type": "code",
   "execution_count": 62,
   "metadata": {},
   "outputs": [
    {
     "data": {
      "text/html": [
       "<style  type=\"text/css\" >\n",
       "    #T_656d723a_434d_11e9_8cc1_acbc32c7c5e5row0_col0 {\n",
       "            width:  10em;\n",
       "             height:  80%;\n",
       "            background:  linear-gradient(90deg,#d65f5f 100.0%, transparent 100.0%);\n",
       "        }    #T_656d723a_434d_11e9_8cc1_acbc32c7c5e5row1_col0 {\n",
       "            width:  10em;\n",
       "             height:  80%;\n",
       "            background:  linear-gradient(90deg,#d65f5f 69.8%, transparent 69.8%);\n",
       "        }    #T_656d723a_434d_11e9_8cc1_acbc32c7c5e5row2_col0 {\n",
       "            width:  10em;\n",
       "             height:  80%;\n",
       "            background:  linear-gradient(90deg,#d65f5f 54.0%, transparent 54.0%);\n",
       "        }    #T_656d723a_434d_11e9_8cc1_acbc32c7c5e5row3_col0 {\n",
       "            width:  10em;\n",
       "             height:  80%;\n",
       "            background:  linear-gradient(90deg,#d65f5f 44.9%, transparent 44.9%);\n",
       "        }    #T_656d723a_434d_11e9_8cc1_acbc32c7c5e5row4_col0 {\n",
       "            width:  10em;\n",
       "             height:  80%;\n",
       "            background:  linear-gradient(90deg,#d65f5f 38.9%, transparent 38.9%);\n",
       "        }    #T_656d723a_434d_11e9_8cc1_acbc32c7c5e5row5_col0 {\n",
       "            width:  10em;\n",
       "             height:  80%;\n",
       "            background:  linear-gradient(90deg,#d65f5f 23.6%, transparent 23.6%);\n",
       "        }    #T_656d723a_434d_11e9_8cc1_acbc32c7c5e5row6_col0 {\n",
       "            width:  10em;\n",
       "             height:  80%;\n",
       "        }</style><table id=\"T_656d723a_434d_11e9_8cc1_acbc32c7c5e5\" ><thead>    <tr>        <th class=\"blank level0\" ></th>        <th class=\"col_heading level0 col0\" >0</th>    </tr>    <tr>        <th class=\"index_name level0\" >day_of_transaction</th>        <th class=\"blank\" ></th>    </tr></thead><tbody>\n",
       "                <tr>\n",
       "                        <th id=\"T_656d723a_434d_11e9_8cc1_acbc32c7c5e5level0_row0\" class=\"row_heading level0 row0\" >day_5</th>\n",
       "                        <td id=\"T_656d723a_434d_11e9_8cc1_acbc32c7c5e5row0_col0\" class=\"data row0 col0\" >63743</td>\n",
       "            </tr>\n",
       "            <tr>\n",
       "                        <th id=\"T_656d723a_434d_11e9_8cc1_acbc32c7c5e5level0_row1\" class=\"row_heading level0 row1\" >day_6</th>\n",
       "                        <td id=\"T_656d723a_434d_11e9_8cc1_acbc32c7c5e5row1_col0\" class=\"data row1 col0\" >59658</td>\n",
       "            </tr>\n",
       "            <tr>\n",
       "                        <th id=\"T_656d723a_434d_11e9_8cc1_acbc32c7c5e5level0_row2\" class=\"row_heading level0 row2\" >day_4</th>\n",
       "                        <td id=\"T_656d723a_434d_11e9_8cc1_acbc32c7c5e5row2_col0\" class=\"data row2 col0\" >57523</td>\n",
       "            </tr>\n",
       "            <tr>\n",
       "                        <th id=\"T_656d723a_434d_11e9_8cc1_acbc32c7c5e5level0_row3\" class=\"row_heading level0 row3\" >day_3</th>\n",
       "                        <td id=\"T_656d723a_434d_11e9_8cc1_acbc32c7c5e5row3_col0\" class=\"data row3 col0\" >56286</td>\n",
       "            </tr>\n",
       "            <tr>\n",
       "                        <th id=\"T_656d723a_434d_11e9_8cc1_acbc32c7c5e5level0_row4\" class=\"row_heading level0 row4\" >day_2</th>\n",
       "                        <td id=\"T_656d723a_434d_11e9_8cc1_acbc32c7c5e5row4_col0\" class=\"data row4 col0\" >55480</td>\n",
       "            </tr>\n",
       "            <tr>\n",
       "                        <th id=\"T_656d723a_434d_11e9_8cc1_acbc32c7c5e5level0_row5\" class=\"row_heading level0 row5\" >day_1</th>\n",
       "                        <td id=\"T_656d723a_434d_11e9_8cc1_acbc32c7c5e5row5_col0\" class=\"data row5 col0\" >53407</td>\n",
       "            </tr>\n",
       "            <tr>\n",
       "                        <th id=\"T_656d723a_434d_11e9_8cc1_acbc32c7c5e5level0_row6\" class=\"row_heading level0 row6\" >day_0</th>\n",
       "                        <td id=\"T_656d723a_434d_11e9_8cc1_acbc32c7c5e5row6_col0\" class=\"data row6 col0\" >50210</td>\n",
       "            </tr>\n",
       "    </tbody></table>"
      ],
      "text/plain": [
       "<pandas.io.formats.style.Styler at 0x1a27d00048>"
      ]
     },
     "execution_count": 62,
     "metadata": {},
     "output_type": "execute_result"
    }
   ],
   "source": [
    "pd.DataFrame(by_day_count).style.bar()\n",
    "# суббота лидер по кол-ву транзакций"
   ]
  },
  {
   "cell_type": "code",
   "execution_count": 63,
   "metadata": {},
   "outputs": [
    {
     "data": {
      "text/html": [
       "<div>\n",
       "<style scoped>\n",
       "    .dataframe tbody tr th:only-of-type {\n",
       "        vertical-align: middle;\n",
       "    }\n",
       "\n",
       "    .dataframe tbody tr th {\n",
       "        vertical-align: top;\n",
       "    }\n",
       "\n",
       "    .dataframe thead th {\n",
       "        text-align: right;\n",
       "    }\n",
       "</style>\n",
       "<table border=\"1\" class=\"dataframe\">\n",
       "  <thead>\n",
       "    <tr style=\"text-align: right;\">\n",
       "      <th>hour_of_transaction</th>\n",
       "      <th>cl_id</th>\n",
       "      <th>00</th>\n",
       "      <th>01</th>\n",
       "      <th>02</th>\n",
       "      <th>03</th>\n",
       "      <th>04</th>\n",
       "      <th>05</th>\n",
       "      <th>06</th>\n",
       "      <th>07</th>\n",
       "      <th>08</th>\n",
       "      <th>...</th>\n",
       "      <th>14</th>\n",
       "      <th>15</th>\n",
       "      <th>16</th>\n",
       "      <th>17</th>\n",
       "      <th>18</th>\n",
       "      <th>19</th>\n",
       "      <th>20</th>\n",
       "      <th>21</th>\n",
       "      <th>22</th>\n",
       "      <th>23</th>\n",
       "    </tr>\n",
       "  </thead>\n",
       "  <tbody>\n",
       "    <tr>\n",
       "      <th>0</th>\n",
       "      <td>5</td>\n",
       "      <td>124.0</td>\n",
       "      <td>0.0</td>\n",
       "      <td>0.0</td>\n",
       "      <td>0.0</td>\n",
       "      <td>0.0</td>\n",
       "      <td>0.0</td>\n",
       "      <td>0.0</td>\n",
       "      <td>0.0</td>\n",
       "      <td>0.0</td>\n",
       "      <td>...</td>\n",
       "      <td>1.0</td>\n",
       "      <td>1.0</td>\n",
       "      <td>1.0</td>\n",
       "      <td>4.0</td>\n",
       "      <td>5.0</td>\n",
       "      <td>2.0</td>\n",
       "      <td>0.0</td>\n",
       "      <td>0.0</td>\n",
       "      <td>0.0</td>\n",
       "      <td>0.0</td>\n",
       "    </tr>\n",
       "    <tr>\n",
       "      <th>1</th>\n",
       "      <td>9</td>\n",
       "      <td>7.0</td>\n",
       "      <td>1.0</td>\n",
       "      <td>6.0</td>\n",
       "      <td>1.0</td>\n",
       "      <td>0.0</td>\n",
       "      <td>0.0</td>\n",
       "      <td>0.0</td>\n",
       "      <td>0.0</td>\n",
       "      <td>0.0</td>\n",
       "      <td>...</td>\n",
       "      <td>0.0</td>\n",
       "      <td>3.0</td>\n",
       "      <td>2.0</td>\n",
       "      <td>1.0</td>\n",
       "      <td>2.0</td>\n",
       "      <td>0.0</td>\n",
       "      <td>1.0</td>\n",
       "      <td>1.0</td>\n",
       "      <td>0.0</td>\n",
       "      <td>3.0</td>\n",
       "    </tr>\n",
       "    <tr>\n",
       "      <th>2</th>\n",
       "      <td>10</td>\n",
       "      <td>299.0</td>\n",
       "      <td>3.0</td>\n",
       "      <td>6.0</td>\n",
       "      <td>8.0</td>\n",
       "      <td>14.0</td>\n",
       "      <td>9.0</td>\n",
       "      <td>19.0</td>\n",
       "      <td>17.0</td>\n",
       "      <td>13.0</td>\n",
       "      <td>...</td>\n",
       "      <td>6.0</td>\n",
       "      <td>3.0</td>\n",
       "      <td>4.0</td>\n",
       "      <td>4.0</td>\n",
       "      <td>0.0</td>\n",
       "      <td>0.0</td>\n",
       "      <td>1.0</td>\n",
       "      <td>0.0</td>\n",
       "      <td>0.0</td>\n",
       "      <td>0.0</td>\n",
       "    </tr>\n",
       "    <tr>\n",
       "      <th>3</th>\n",
       "      <td>11</td>\n",
       "      <td>207.0</td>\n",
       "      <td>0.0</td>\n",
       "      <td>0.0</td>\n",
       "      <td>0.0</td>\n",
       "      <td>0.0</td>\n",
       "      <td>0.0</td>\n",
       "      <td>0.0</td>\n",
       "      <td>0.0</td>\n",
       "      <td>0.0</td>\n",
       "      <td>...</td>\n",
       "      <td>1.0</td>\n",
       "      <td>2.0</td>\n",
       "      <td>1.0</td>\n",
       "      <td>3.0</td>\n",
       "      <td>0.0</td>\n",
       "      <td>2.0</td>\n",
       "      <td>0.0</td>\n",
       "      <td>0.0</td>\n",
       "      <td>0.0</td>\n",
       "      <td>0.0</td>\n",
       "    </tr>\n",
       "    <tr>\n",
       "      <th>4</th>\n",
       "      <td>14</td>\n",
       "      <td>132.0</td>\n",
       "      <td>0.0</td>\n",
       "      <td>0.0</td>\n",
       "      <td>0.0</td>\n",
       "      <td>0.0</td>\n",
       "      <td>0.0</td>\n",
       "      <td>0.0</td>\n",
       "      <td>0.0</td>\n",
       "      <td>0.0</td>\n",
       "      <td>...</td>\n",
       "      <td>1.0</td>\n",
       "      <td>0.0</td>\n",
       "      <td>0.0</td>\n",
       "      <td>0.0</td>\n",
       "      <td>0.0</td>\n",
       "      <td>0.0</td>\n",
       "      <td>0.0</td>\n",
       "      <td>0.0</td>\n",
       "      <td>0.0</td>\n",
       "      <td>1.0</td>\n",
       "    </tr>\n",
       "  </tbody>\n",
       "</table>\n",
       "<p>5 rows × 25 columns</p>\n",
       "</div>"
      ],
      "text/plain": [
       "hour_of_transaction  cl_id     00   01   02   03    04   05    06    07    08  \\\n",
       "0                        5  124.0  0.0  0.0  0.0   0.0  0.0   0.0   0.0   0.0   \n",
       "1                        9    7.0  1.0  6.0  1.0   0.0  0.0   0.0   0.0   0.0   \n",
       "2                       10  299.0  3.0  6.0  8.0  14.0  9.0  19.0  17.0  13.0   \n",
       "3                       11  207.0  0.0  0.0  0.0   0.0  0.0   0.0   0.0   0.0   \n",
       "4                       14  132.0  0.0  0.0  0.0   0.0  0.0   0.0   0.0   0.0   \n",
       "\n",
       "hour_of_transaction  ...   14   15   16   17   18   19   20   21   22   23  \n",
       "0                    ...  1.0  1.0  1.0  4.0  5.0  2.0  0.0  0.0  0.0  0.0  \n",
       "1                    ...  0.0  3.0  2.0  1.0  2.0  0.0  1.0  1.0  0.0  3.0  \n",
       "2                    ...  6.0  3.0  4.0  4.0  0.0  0.0  1.0  0.0  0.0  0.0  \n",
       "3                    ...  1.0  2.0  1.0  3.0  0.0  2.0  0.0  0.0  0.0  0.0  \n",
       "4                    ...  1.0  0.0  0.0  0.0  0.0  0.0  0.0  0.0  0.0  1.0  \n",
       "\n",
       "[5 rows x 25 columns]"
      ]
     },
     "execution_count": 63,
     "metadata": {},
     "output_type": "execute_result"
    }
   ],
   "source": [
    "transaction_by_hour_count(transactions_train).head()"
   ]
  },
  {
   "cell_type": "code",
   "execution_count": 64,
   "metadata": {},
   "outputs": [],
   "source": [
    "by_hour = transaction_by_hour_count(transactions_train)"
   ]
  },
  {
   "cell_type": "code",
   "execution_count": 65,
   "metadata": {},
   "outputs": [
    {
     "data": {
      "text/plain": [
       "hour_of_transaction\n",
       "00    349711.0\n",
       "13      3882.0\n",
       "11      3830.0\n",
       "12      3778.0\n",
       "14      3548.0\n",
       "15      3387.0\n",
       "10      3311.0\n",
       "16      3130.0\n",
       "17      3114.0\n",
       "09      2986.0\n",
       "18      2895.0\n",
       "08      2172.0\n",
       "19      2158.0\n",
       "07      1613.0\n",
       "20      1430.0\n",
       "06      1084.0\n",
       "21       985.0\n",
       "05       803.0\n",
       "22       682.0\n",
       "04       557.0\n",
       "23       398.0\n",
       "03       388.0\n",
       "02       262.0\n",
       "01       203.0\n",
       "dtype: float64"
      ]
     },
     "execution_count": 65,
     "metadata": {},
     "output_type": "execute_result"
    }
   ],
   "source": [
    "by_hour.sum().drop('cl_id').sort_values(ascending = False)\n",
    "# есть выброс на 00 часов(банковские операции какие -то?)\n",
    "# избавимся от него"
   ]
  },
  {
   "cell_type": "code",
   "execution_count": 66,
   "metadata": {},
   "outputs": [],
   "source": [
    "by_day_count = by_hour.sum().drop('cl_id').sort_values(ascending = False).drop('00')"
   ]
  },
  {
   "cell_type": "code",
   "execution_count": 67,
   "metadata": {},
   "outputs": [
    {
     "data": {
      "text/html": [
       "<style  type=\"text/css\" >\n",
       "    #T_6dd3fa02_434d_11e9_a4bb_acbc32c7c5e5row0_col0 {\n",
       "            width:  10em;\n",
       "             height:  80%;\n",
       "            background:  linear-gradient(90deg,#d65f5f 100.0%, transparent 100.0%);\n",
       "        }    #T_6dd3fa02_434d_11e9_a4bb_acbc32c7c5e5row1_col0 {\n",
       "            width:  10em;\n",
       "             height:  80%;\n",
       "            background:  linear-gradient(90deg,#d65f5f 98.6%, transparent 98.6%);\n",
       "        }    #T_6dd3fa02_434d_11e9_a4bb_acbc32c7c5e5row2_col0 {\n",
       "            width:  10em;\n",
       "             height:  80%;\n",
       "            background:  linear-gradient(90deg,#d65f5f 97.2%, transparent 97.2%);\n",
       "        }    #T_6dd3fa02_434d_11e9_a4bb_acbc32c7c5e5row3_col0 {\n",
       "            width:  10em;\n",
       "             height:  80%;\n",
       "            background:  linear-gradient(90deg,#d65f5f 90.9%, transparent 90.9%);\n",
       "        }    #T_6dd3fa02_434d_11e9_a4bb_acbc32c7c5e5row4_col0 {\n",
       "            width:  10em;\n",
       "             height:  80%;\n",
       "            background:  linear-gradient(90deg,#d65f5f 86.5%, transparent 86.5%);\n",
       "        }    #T_6dd3fa02_434d_11e9_a4bb_acbc32c7c5e5row5_col0 {\n",
       "            width:  10em;\n",
       "             height:  80%;\n",
       "            background:  linear-gradient(90deg,#d65f5f 84.5%, transparent 84.5%);\n",
       "        }    #T_6dd3fa02_434d_11e9_a4bb_acbc32c7c5e5row6_col0 {\n",
       "            width:  10em;\n",
       "             height:  80%;\n",
       "            background:  linear-gradient(90deg,#d65f5f 79.6%, transparent 79.6%);\n",
       "        }    #T_6dd3fa02_434d_11e9_a4bb_acbc32c7c5e5row7_col0 {\n",
       "            width:  10em;\n",
       "             height:  80%;\n",
       "            background:  linear-gradient(90deg,#d65f5f 79.1%, transparent 79.1%);\n",
       "        }    #T_6dd3fa02_434d_11e9_a4bb_acbc32c7c5e5row8_col0 {\n",
       "            width:  10em;\n",
       "             height:  80%;\n",
       "            background:  linear-gradient(90deg,#d65f5f 75.6%, transparent 75.6%);\n",
       "        }    #T_6dd3fa02_434d_11e9_a4bb_acbc32c7c5e5row9_col0 {\n",
       "            width:  10em;\n",
       "             height:  80%;\n",
       "            background:  linear-gradient(90deg,#d65f5f 73.2%, transparent 73.2%);\n",
       "        }    #T_6dd3fa02_434d_11e9_a4bb_acbc32c7c5e5row10_col0 {\n",
       "            width:  10em;\n",
       "             height:  80%;\n",
       "            background:  linear-gradient(90deg,#d65f5f 53.5%, transparent 53.5%);\n",
       "        }    #T_6dd3fa02_434d_11e9_a4bb_acbc32c7c5e5row11_col0 {\n",
       "            width:  10em;\n",
       "             height:  80%;\n",
       "            background:  linear-gradient(90deg,#d65f5f 53.1%, transparent 53.1%);\n",
       "        }    #T_6dd3fa02_434d_11e9_a4bb_acbc32c7c5e5row12_col0 {\n",
       "            width:  10em;\n",
       "             height:  80%;\n",
       "            background:  linear-gradient(90deg,#d65f5f 38.3%, transparent 38.3%);\n",
       "        }    #T_6dd3fa02_434d_11e9_a4bb_acbc32c7c5e5row13_col0 {\n",
       "            width:  10em;\n",
       "             height:  80%;\n",
       "            background:  linear-gradient(90deg,#d65f5f 33.4%, transparent 33.4%);\n",
       "        }    #T_6dd3fa02_434d_11e9_a4bb_acbc32c7c5e5row14_col0 {\n",
       "            width:  10em;\n",
       "             height:  80%;\n",
       "            background:  linear-gradient(90deg,#d65f5f 23.9%, transparent 23.9%);\n",
       "        }    #T_6dd3fa02_434d_11e9_a4bb_acbc32c7c5e5row15_col0 {\n",
       "            width:  10em;\n",
       "             height:  80%;\n",
       "            background:  linear-gradient(90deg,#d65f5f 21.3%, transparent 21.3%);\n",
       "        }    #T_6dd3fa02_434d_11e9_a4bb_acbc32c7c5e5row16_col0 {\n",
       "            width:  10em;\n",
       "             height:  80%;\n",
       "            background:  linear-gradient(90deg,#d65f5f 16.3%, transparent 16.3%);\n",
       "        }    #T_6dd3fa02_434d_11e9_a4bb_acbc32c7c5e5row17_col0 {\n",
       "            width:  10em;\n",
       "             height:  80%;\n",
       "            background:  linear-gradient(90deg,#d65f5f 13.0%, transparent 13.0%);\n",
       "        }    #T_6dd3fa02_434d_11e9_a4bb_acbc32c7c5e5row18_col0 {\n",
       "            width:  10em;\n",
       "             height:  80%;\n",
       "            background:  linear-gradient(90deg,#d65f5f 9.6%, transparent 9.6%);\n",
       "        }    #T_6dd3fa02_434d_11e9_a4bb_acbc32c7c5e5row19_col0 {\n",
       "            width:  10em;\n",
       "             height:  80%;\n",
       "            background:  linear-gradient(90deg,#d65f5f 5.3%, transparent 5.3%);\n",
       "        }    #T_6dd3fa02_434d_11e9_a4bb_acbc32c7c5e5row20_col0 {\n",
       "            width:  10em;\n",
       "             height:  80%;\n",
       "            background:  linear-gradient(90deg,#d65f5f 5.0%, transparent 5.0%);\n",
       "        }    #T_6dd3fa02_434d_11e9_a4bb_acbc32c7c5e5row21_col0 {\n",
       "            width:  10em;\n",
       "             height:  80%;\n",
       "            background:  linear-gradient(90deg,#d65f5f 1.6%, transparent 1.6%);\n",
       "        }    #T_6dd3fa02_434d_11e9_a4bb_acbc32c7c5e5row22_col0 {\n",
       "            width:  10em;\n",
       "             height:  80%;\n",
       "        }</style><table id=\"T_6dd3fa02_434d_11e9_a4bb_acbc32c7c5e5\" ><thead>    <tr>        <th class=\"blank level0\" ></th>        <th class=\"col_heading level0 col0\" >0</th>    </tr>    <tr>        <th class=\"index_name level0\" >hour_of_transaction</th>        <th class=\"blank\" ></th>    </tr></thead><tbody>\n",
       "                <tr>\n",
       "                        <th id=\"T_6dd3fa02_434d_11e9_a4bb_acbc32c7c5e5level0_row0\" class=\"row_heading level0 row0\" >13</th>\n",
       "                        <td id=\"T_6dd3fa02_434d_11e9_a4bb_acbc32c7c5e5row0_col0\" class=\"data row0 col0\" >3882</td>\n",
       "            </tr>\n",
       "            <tr>\n",
       "                        <th id=\"T_6dd3fa02_434d_11e9_a4bb_acbc32c7c5e5level0_row1\" class=\"row_heading level0 row1\" >11</th>\n",
       "                        <td id=\"T_6dd3fa02_434d_11e9_a4bb_acbc32c7c5e5row1_col0\" class=\"data row1 col0\" >3830</td>\n",
       "            </tr>\n",
       "            <tr>\n",
       "                        <th id=\"T_6dd3fa02_434d_11e9_a4bb_acbc32c7c5e5level0_row2\" class=\"row_heading level0 row2\" >12</th>\n",
       "                        <td id=\"T_6dd3fa02_434d_11e9_a4bb_acbc32c7c5e5row2_col0\" class=\"data row2 col0\" >3778</td>\n",
       "            </tr>\n",
       "            <tr>\n",
       "                        <th id=\"T_6dd3fa02_434d_11e9_a4bb_acbc32c7c5e5level0_row3\" class=\"row_heading level0 row3\" >14</th>\n",
       "                        <td id=\"T_6dd3fa02_434d_11e9_a4bb_acbc32c7c5e5row3_col0\" class=\"data row3 col0\" >3548</td>\n",
       "            </tr>\n",
       "            <tr>\n",
       "                        <th id=\"T_6dd3fa02_434d_11e9_a4bb_acbc32c7c5e5level0_row4\" class=\"row_heading level0 row4\" >15</th>\n",
       "                        <td id=\"T_6dd3fa02_434d_11e9_a4bb_acbc32c7c5e5row4_col0\" class=\"data row4 col0\" >3387</td>\n",
       "            </tr>\n",
       "            <tr>\n",
       "                        <th id=\"T_6dd3fa02_434d_11e9_a4bb_acbc32c7c5e5level0_row5\" class=\"row_heading level0 row5\" >10</th>\n",
       "                        <td id=\"T_6dd3fa02_434d_11e9_a4bb_acbc32c7c5e5row5_col0\" class=\"data row5 col0\" >3311</td>\n",
       "            </tr>\n",
       "            <tr>\n",
       "                        <th id=\"T_6dd3fa02_434d_11e9_a4bb_acbc32c7c5e5level0_row6\" class=\"row_heading level0 row6\" >16</th>\n",
       "                        <td id=\"T_6dd3fa02_434d_11e9_a4bb_acbc32c7c5e5row6_col0\" class=\"data row6 col0\" >3130</td>\n",
       "            </tr>\n",
       "            <tr>\n",
       "                        <th id=\"T_6dd3fa02_434d_11e9_a4bb_acbc32c7c5e5level0_row7\" class=\"row_heading level0 row7\" >17</th>\n",
       "                        <td id=\"T_6dd3fa02_434d_11e9_a4bb_acbc32c7c5e5row7_col0\" class=\"data row7 col0\" >3114</td>\n",
       "            </tr>\n",
       "            <tr>\n",
       "                        <th id=\"T_6dd3fa02_434d_11e9_a4bb_acbc32c7c5e5level0_row8\" class=\"row_heading level0 row8\" >09</th>\n",
       "                        <td id=\"T_6dd3fa02_434d_11e9_a4bb_acbc32c7c5e5row8_col0\" class=\"data row8 col0\" >2986</td>\n",
       "            </tr>\n",
       "            <tr>\n",
       "                        <th id=\"T_6dd3fa02_434d_11e9_a4bb_acbc32c7c5e5level0_row9\" class=\"row_heading level0 row9\" >18</th>\n",
       "                        <td id=\"T_6dd3fa02_434d_11e9_a4bb_acbc32c7c5e5row9_col0\" class=\"data row9 col0\" >2895</td>\n",
       "            </tr>\n",
       "            <tr>\n",
       "                        <th id=\"T_6dd3fa02_434d_11e9_a4bb_acbc32c7c5e5level0_row10\" class=\"row_heading level0 row10\" >08</th>\n",
       "                        <td id=\"T_6dd3fa02_434d_11e9_a4bb_acbc32c7c5e5row10_col0\" class=\"data row10 col0\" >2172</td>\n",
       "            </tr>\n",
       "            <tr>\n",
       "                        <th id=\"T_6dd3fa02_434d_11e9_a4bb_acbc32c7c5e5level0_row11\" class=\"row_heading level0 row11\" >19</th>\n",
       "                        <td id=\"T_6dd3fa02_434d_11e9_a4bb_acbc32c7c5e5row11_col0\" class=\"data row11 col0\" >2158</td>\n",
       "            </tr>\n",
       "            <tr>\n",
       "                        <th id=\"T_6dd3fa02_434d_11e9_a4bb_acbc32c7c5e5level0_row12\" class=\"row_heading level0 row12\" >07</th>\n",
       "                        <td id=\"T_6dd3fa02_434d_11e9_a4bb_acbc32c7c5e5row12_col0\" class=\"data row12 col0\" >1613</td>\n",
       "            </tr>\n",
       "            <tr>\n",
       "                        <th id=\"T_6dd3fa02_434d_11e9_a4bb_acbc32c7c5e5level0_row13\" class=\"row_heading level0 row13\" >20</th>\n",
       "                        <td id=\"T_6dd3fa02_434d_11e9_a4bb_acbc32c7c5e5row13_col0\" class=\"data row13 col0\" >1430</td>\n",
       "            </tr>\n",
       "            <tr>\n",
       "                        <th id=\"T_6dd3fa02_434d_11e9_a4bb_acbc32c7c5e5level0_row14\" class=\"row_heading level0 row14\" >06</th>\n",
       "                        <td id=\"T_6dd3fa02_434d_11e9_a4bb_acbc32c7c5e5row14_col0\" class=\"data row14 col0\" >1084</td>\n",
       "            </tr>\n",
       "            <tr>\n",
       "                        <th id=\"T_6dd3fa02_434d_11e9_a4bb_acbc32c7c5e5level0_row15\" class=\"row_heading level0 row15\" >21</th>\n",
       "                        <td id=\"T_6dd3fa02_434d_11e9_a4bb_acbc32c7c5e5row15_col0\" class=\"data row15 col0\" >985</td>\n",
       "            </tr>\n",
       "            <tr>\n",
       "                        <th id=\"T_6dd3fa02_434d_11e9_a4bb_acbc32c7c5e5level0_row16\" class=\"row_heading level0 row16\" >05</th>\n",
       "                        <td id=\"T_6dd3fa02_434d_11e9_a4bb_acbc32c7c5e5row16_col0\" class=\"data row16 col0\" >803</td>\n",
       "            </tr>\n",
       "            <tr>\n",
       "                        <th id=\"T_6dd3fa02_434d_11e9_a4bb_acbc32c7c5e5level0_row17\" class=\"row_heading level0 row17\" >22</th>\n",
       "                        <td id=\"T_6dd3fa02_434d_11e9_a4bb_acbc32c7c5e5row17_col0\" class=\"data row17 col0\" >682</td>\n",
       "            </tr>\n",
       "            <tr>\n",
       "                        <th id=\"T_6dd3fa02_434d_11e9_a4bb_acbc32c7c5e5level0_row18\" class=\"row_heading level0 row18\" >04</th>\n",
       "                        <td id=\"T_6dd3fa02_434d_11e9_a4bb_acbc32c7c5e5row18_col0\" class=\"data row18 col0\" >557</td>\n",
       "            </tr>\n",
       "            <tr>\n",
       "                        <th id=\"T_6dd3fa02_434d_11e9_a4bb_acbc32c7c5e5level0_row19\" class=\"row_heading level0 row19\" >23</th>\n",
       "                        <td id=\"T_6dd3fa02_434d_11e9_a4bb_acbc32c7c5e5row19_col0\" class=\"data row19 col0\" >398</td>\n",
       "            </tr>\n",
       "            <tr>\n",
       "                        <th id=\"T_6dd3fa02_434d_11e9_a4bb_acbc32c7c5e5level0_row20\" class=\"row_heading level0 row20\" >03</th>\n",
       "                        <td id=\"T_6dd3fa02_434d_11e9_a4bb_acbc32c7c5e5row20_col0\" class=\"data row20 col0\" >388</td>\n",
       "            </tr>\n",
       "            <tr>\n",
       "                        <th id=\"T_6dd3fa02_434d_11e9_a4bb_acbc32c7c5e5level0_row21\" class=\"row_heading level0 row21\" >02</th>\n",
       "                        <td id=\"T_6dd3fa02_434d_11e9_a4bb_acbc32c7c5e5row21_col0\" class=\"data row21 col0\" >262</td>\n",
       "            </tr>\n",
       "            <tr>\n",
       "                        <th id=\"T_6dd3fa02_434d_11e9_a4bb_acbc32c7c5e5level0_row22\" class=\"row_heading level0 row22\" >01</th>\n",
       "                        <td id=\"T_6dd3fa02_434d_11e9_a4bb_acbc32c7c5e5row22_col0\" class=\"data row22 col0\" >203</td>\n",
       "            </tr>\n",
       "    </tbody></table>"
      ],
      "text/plain": [
       "<pandas.io.formats.style.Styler at 0x1a31180eb8>"
      ]
     },
     "execution_count": 67,
     "metadata": {},
     "output_type": "execute_result"
    }
   ],
   "source": [
    "pd.DataFrame(by_day_count).style.bar()\n",
    "# Пик приходится на период с 11 до 14. Все идут на бизнес- ланч :)"
   ]
  },
  {
   "cell_type": "code",
   "execution_count": 68,
   "metadata": {},
   "outputs": [],
   "source": [
    "# обучение модели"
   ]
  },
  {
   "cell_type": "code",
   "execution_count": 69,
   "metadata": {},
   "outputs": [],
   "source": [
    "# добавим фичи по трем популярным волютам в df"
   ]
  },
  {
   "cell_type": "code",
   "execution_count": 70,
   "metadata": {},
   "outputs": [
    {
     "data": {
      "text/plain": [
       "(4000, 692)"
      ]
     },
     "execution_count": 70,
     "metadata": {},
     "output_type": "execute_result"
    }
   ],
   "source": [
    "df_train = df_train.merge(df_train_currency,how = 'left',on='cl_id')\n",
    "df_train.shape"
   ]
  },
  {
   "cell_type": "code",
   "execution_count": 71,
   "metadata": {},
   "outputs": [],
   "source": [
    "# для channel_type aggregeted_df"
   ]
  },
  {
   "cell_type": "code",
   "execution_count": 72,
   "metadata": {},
   "outputs": [],
   "source": [
    "df_train_channel_type = pd.merge(\n",
    "    get_aggregated_df(transactions_train, agg_type='mean', col_to_groupby='channel_type'),\n",
    "    get_aggregated_df(transactions_train, agg_type='sum', col_to_groupby='channel_type'),\n",
    "    left_index=True,\n",
    "    right_index=True,\n",
    ")"
   ]
  },
  {
   "cell_type": "code",
   "execution_count": 73,
   "metadata": {},
   "outputs": [],
   "source": [
    "df_train = pd.merge(\n",
    "    df_train,\n",
    "    df_train_channel_type,\n",
    "    left_index=True,\n",
    "    right_index=True,\n",
    "    how='inner'\n",
    ")"
   ]
  },
  {
   "cell_type": "code",
   "execution_count": 74,
   "metadata": {},
   "outputs": [
    {
     "data": {
      "text/plain": [
       "(4000, 704)"
      ]
     },
     "execution_count": 74,
     "metadata": {},
     "output_type": "execute_result"
    }
   ],
   "source": [
    "df_train.shape"
   ]
  },
  {
   "cell_type": "code",
   "execution_count": 75,
   "metadata": {},
   "outputs": [
    {
     "data": {
      "text/html": [
       "<div>\n",
       "<style scoped>\n",
       "    .dataframe tbody tr th:only-of-type {\n",
       "        vertical-align: middle;\n",
       "    }\n",
       "\n",
       "    .dataframe tbody tr th {\n",
       "        vertical-align: top;\n",
       "    }\n",
       "\n",
       "    .dataframe thead th {\n",
       "        text-align: right;\n",
       "    }\n",
       "</style>\n",
       "<table border=\"1\" class=\"dataframe\">\n",
       "  <thead>\n",
       "    <tr style=\"text-align: right;\">\n",
       "      <th></th>\n",
       "      <th>target_flag</th>\n",
       "    </tr>\n",
       "    <tr>\n",
       "      <th>cl_id</th>\n",
       "      <th></th>\n",
       "    </tr>\n",
       "  </thead>\n",
       "  <tbody>\n",
       "    <tr>\n",
       "      <th>0</th>\n",
       "      <td>0</td>\n",
       "    </tr>\n",
       "    <tr>\n",
       "      <th>1</th>\n",
       "      <td>0</td>\n",
       "    </tr>\n",
       "    <tr>\n",
       "      <th>5</th>\n",
       "      <td>1</td>\n",
       "    </tr>\n",
       "    <tr>\n",
       "      <th>9</th>\n",
       "      <td>0</td>\n",
       "    </tr>\n",
       "    <tr>\n",
       "      <th>10</th>\n",
       "      <td>0</td>\n",
       "    </tr>\n",
       "  </tbody>\n",
       "</table>\n",
       "</div>"
      ],
      "text/plain": [
       "       target_flag\n",
       "cl_id             \n",
       "0                0\n",
       "1                0\n",
       "5                1\n",
       "9                0\n",
       "10               0"
      ]
     },
     "execution_count": 75,
     "metadata": {},
     "output_type": "execute_result"
    }
   ],
   "source": [
    "df_targets = raw_df[['cl_id', 'target_flag']].drop_duplicates().copy()\n",
    "df_targets.index = df_targets['cl_id']\n",
    "df_targets = df_targets.drop('cl_id', axis=1)\n",
    "df_targets.head()"
   ]
  },
  {
   "cell_type": "code",
   "execution_count": 76,
   "metadata": {},
   "outputs": [],
   "source": [
    "df_train = pd.merge(\n",
    "    df_train,\n",
    "    df_targets,\n",
    "    left_index=True,\n",
    "    right_index=True,\n",
    "    how='inner'\n",
    ")"
   ]
  },
  {
   "cell_type": "code",
   "execution_count": 77,
   "metadata": {},
   "outputs": [],
   "source": [
    "df_train.fillna(0,inplace=True)"
   ]
  },
  {
   "cell_type": "code",
   "execution_count": 78,
   "metadata": {},
   "outputs": [],
   "source": [
    "clf_hw = LogisticRegression()\n",
    "X_train_hw = df_train.drop(['target_flag'], axis=1)\n",
    "y_train_hw = df_train['target_flag']"
   ]
  },
  {
   "cell_type": "code",
   "execution_count": 79,
   "metadata": {},
   "outputs": [
    {
     "name": "stderr",
     "output_type": "stream",
     "text": [
      "/Users/maxim/anaconda3/lib/python3.6/site-packages/sklearn/linear_model/logistic.py:433: FutureWarning: Default solver will be changed to 'lbfgs' in 0.22. Specify a solver to silence this warning.\n",
      "  FutureWarning)\n",
      "/Users/maxim/anaconda3/lib/python3.6/site-packages/sklearn/svm/base.py:922: ConvergenceWarning: Liblinear failed to converge, increase the number of iterations.\n",
      "  \"the number of iterations.\", ConvergenceWarning)\n"
     ]
    },
    {
     "data": {
      "text/plain": [
       "LogisticRegression(C=1.0, class_weight=None, dual=False, fit_intercept=True,\n",
       "          intercept_scaling=1, max_iter=100, multi_class='warn',\n",
       "          n_jobs=None, penalty='l2', random_state=None, solver='warn',\n",
       "          tol=0.0001, verbose=0, warm_start=False)"
      ]
     },
     "execution_count": 79,
     "metadata": {},
     "output_type": "execute_result"
    }
   ],
   "source": [
    "clf_hw.fit(X=X_train_hw, y=y_train_hw)"
   ]
  },
  {
   "cell_type": "code",
   "execution_count": 80,
   "metadata": {},
   "outputs": [
    {
     "name": "stdout",
     "output_type": "stream",
     "text": [
      "Train:  0.8\n"
     ]
    }
   ],
   "source": [
    "y_train_predict_hw = clf_hw.predict_proba(X_train_hw)[:, 1]\n",
    "\n",
    "roc_auc_train = np.round(roc_auc_score(y_train_hw, y_train_predict_hw), 2)\n",
    "\n",
    "print(\"Train: \", roc_auc_train)"
   ]
  },
  {
   "cell_type": "code",
   "execution_count": 81,
   "metadata": {},
   "outputs": [
    {
     "data": {
      "image/png": "[encoded data removed]",
      "text/plain": [
       "<Figure size 720x720 with 1 Axes>"
      ]
     },
     "metadata": {
      "needs_background": "light"
     },
     "output_type": "display_data"
    }
   ],
   "source": [
    "import matplotlib\n",
    "fpr_train, tpr_train, thresholds_train = roc_curve(y_train, y_train_predict)\n",
    "\n",
    "matplotlib.rcParams['figure.figsize'] = (10.0, 10.0)\n",
    "plt.plot(fpr_train, tpr_train, label='Train ROC AUC {0}'.format(roc_auc_train))\n",
    "plt.plot([0, 1], [0, 1], '--', color=(0.6, 0.6, 0.6))\n",
    "plt.xlim([0, 1])\n",
    "plt.ylim([0, 1])\n",
    "plt.xlabel('False Positive Rate')\n",
    "plt.ylabel('True Positive Rate')\n",
    "plt.title('Logistic Regression Classifier', size=16)\n",
    "plt.legend(loc='lower right')\n",
    "plt.show()"
   ]
  },
  {
   "cell_type": "code",
   "execution_count": 82,
   "metadata": {},
   "outputs": [],
   "source": [
    "import xgboost"
   ]
  },
  {
   "cell_type": "code",
   "execution_count": 83,
   "metadata": {},
   "outputs": [],
   "source": [
    "import os\n",
    "os.environ['KMP_DUPLICATE_LIB_OK']='True'\n",
    "from xgboost import XGBClassifier"
   ]
  },
  {
   "cell_type": "code",
   "execution_count": 84,
   "metadata": {},
   "outputs": [],
   "source": [
    "#X_train_hw = X_train_hw.loc[:,~X_train_hw.columns.duplicated()]"
   ]
  },
  {
   "cell_type": "code",
   "execution_count": 85,
   "metadata": {},
   "outputs": [],
   "source": [
    "#len(y_train_hw)"
   ]
  },
  {
   "cell_type": "code",
   "execution_count": 92,
   "metadata": {},
   "outputs": [
    {
     "name": "stdout",
     "output_type": "stream",
     "text": [
      "Train:  1.0\n"
     ]
    }
   ],
   "source": [
    "xgb = xgboost.XGBClassifier(max_depth=5, n_jobs=-1)\n",
    "# xgb = DecisionTreeClassifier()\n",
    "xgb.fit(X_train_hw, y_train_hw)\n",
    "y_train_predict = xgb.predict_proba(X_train_hw)[:, 1]\n",
    "roc_auc_train = np.round(roc_auc_score(y_train_hw, y_train_predict), 2)\n",
    "print(\"Train: \", roc_auc_train)"
   ]
  },
  {
   "cell_type": "code",
   "execution_count": null,
   "metadata": {},
   "outputs": [],
   "source": [
    "# не может же быть 1.0.. видимо, некорректно выбраны фичи"
   ]
  },
  {
   "cell_type": "code",
   "execution_count": 87,
   "metadata": {},
   "outputs": [
    {
     "data": {
      "image/png": "[encoded data removed]",
      "text/plain": [
       "<Figure size 720x720 with 1 Axes>"
      ]
     },
     "metadata": {
      "needs_background": "light"
     },
     "output_type": "display_data"
    }
   ],
   "source": [
    "import matplotlib\n",
    "fpr_train, tpr_train, thresholds_train = roc_curve(y_train, y_train_predict)\n",
    "\n",
    "plt.plot(fpr_train, tpr_train, label='Train ROC AUC {0}'.format(roc_auc_train))\n",
    "plt.plot([0, 1], [0, 1], '--', color=(0.6, 0.6, 0.6))\n",
    "plt.xlim([0, 1])\n",
    "plt.ylim([0, 1])\n",
    "plt.xlabel('False Positive Rate')\n",
    "plt.ylabel('True Positive Rate')\n",
    "plt.title('XGB Classifier', size=16)\n",
    "plt.legend(loc='lower right')\n",
    "plt.show()"
   ]
  },
  {
   "cell_type": "code",
   "execution_count": 88,
   "metadata": {},
   "outputs": [
    {
     "data": {
      "image/png": "[encoded data removed]",
      "text/plain": [
       "<Figure size 720x720 with 1 Axes>"
      ]
     },
     "metadata": {
      "needs_background": "light"
     },
     "output_type": "display_data"
    }
   ],
   "source": [
    "matplotlib.rcParams['figure.figsize'] = (10, 10)\n",
    "xgboost.plot_importance(booster=xgb)\n",
    "plt.savefig('tree_importance_test1.png')"
   ]
  }
 ],
 "metadata": {
  "kernelspec": {
   "display_name": "Python 3",
   "language": "python",
   "name": "python3"
  },
  "language_info": {
   "codemirror_mode": {
    "name": "ipython",
    "version": 3
   },
   "file_extension": ".py",
   "mimetype": "text/x-python",
   "name": "python",
   "nbconvert_exporter": "python",
   "pygments_lexer": "ipython3",
   "version": "3.6.8"
  }
 },
 "nbformat": 4,
 "nbformat_minor": 2
}
